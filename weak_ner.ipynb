{
 "cells": [
  {
   "cell_type": "markdown",
   "metadata": {},
   "source": [
    "<h4>\n",
    "Essa tarefa tem como objetivo demonstrar uma Pipeline de Supervisão Fraca.<br>\n",
    "Para essa tarefa eu escolhi utilizar o conjunto de dados da minha primeira tarefa no meu estágio, que comecei a um ano atrás.<br>\n",
    "Essa tarefa tem o objetivo encontrar as espécies, o tipo do corte e as dimensões das descrições de madeira.<br>\n",
    "Além de ser um trabalho de MLP, que na época eu não tinha nenhuma experiência, também teve a grande dificuldade dos dados não estarem rotulados.<br>\n",
    "A minha solução final envolveu a construção de um conjunto de treino e validação manual e utilizar uma LLM com um schema definido para retornar a espécie, o corte e as dimensões.\n",
    "</h4>"
   ]
  },
  {
   "cell_type": "markdown",
   "metadata": {},
   "source": [
    "<h4>\n",
    "Temos algumas características que tornaram esse problema difícil para uma LLM, o primeiro, as descrições de produto não são estruturadas, além de não existir nenhum tipo de ordem para cada uma das classes de interesse também podemos ter casos em que essas classes estão faltando, como por exemplo uma descrição possuir a espécie, o corte, mas não possuir a dimensão.<br>\n",
    "Exemplo: \"tabua de massaranduba.\"<br>\n",
    "Um outro problema são as situações em que uma descrição possui múltiplos de uma mesma classe.<br>\n",
    "Exemplo: \"tabua/viga de massaranduba.\"<br>\n",
    "Um problema mais simples são erros ortográficos, sinônimos e nomes ciêntificos da espécie, existem múltiplas maneiras de chamar um mesmo produto que faz sentido no contexto de produtos de madeira, mas são palavras completamente diferentes em outros contextos.<br>\n",
    "Exemplo1: \"tabua de cetim.\"<br>\n",
    "Exemplo2: \"tabua de pau amarelo.\" -- Sinônimo<br>\n",
    "Exemplo3: \"tabua de cedrelinga cateniformis.\" -- Nome Ciêntifico<br>\n",
    "Além de problemas intrísecos ao Dataset, como as descrições de outros produtos que não são madeira com o NCM na nota fiscal como produto de madeira. Esses foram as maiores dificuldades que impactaram a qualidade da solução utilizanção LLM.\n",
    "</h4>"
   ]
  },
  {
   "cell_type": "markdown",
   "metadata": {},
   "source": [
    "<h4>\n",
    "Essa atividade se mostrou uma boa oportunidade para revisitar esse problema.<br>\n",
    "Agora que tenho mais conhecimento na área de NLP, como eu posso solucionar essa tarefa?<br>\n",
    "Para isso eu vou partir do ponto em que eu reduzi o meu Dataset não rotulado para manter apenas as descrições únicas.<br>\n",
    "Essas descrições já passaram por um processo de pré-processamento simples, como: tornar tudo minúsculo e substituir acentos pelas letras normais.<br>\n",
    "Esse conjunto inicial é \"madeiraDescricao.csv\" e eu optei por manter apenas a coluna textual para evitar compartilhar dados sensíveis da nota.<br>\n",
    "Como os meus dados não estão rotulados essa é uma ótima oportunidade para utilizar o que aprendi com Weak Learning.<br>\n",
    "Primeiro preciso criar um conjunto de dados rotulados que será dividido em validação e teste. Mas para criar esse conjunto eu primeiro preciso entender como resolverei esses problemas.\n",
    "</h4>"
   ]
  },
  {
   "cell_type": "markdown",
   "metadata": {},
   "source": [
    "<h4>\n",
    "A solução que decidi seguir foi a implementação de uma tarefa de NER, em que as entidades serão as <mark>ESPECIE</mark>, <mark>CORTE</mark> E <mark>DIMENSAO</mark>.<br>\n",
    "Eu escolhi selecionar essa solução devido aos problemas mencionados, as multiplicidade das entidades, ou falta de alguma delas não seria um problema, além disso acredito que os problemas de sinônimos e nomes cientificos também são de fácil solução para essa tarefa.<br>\n",
    "Então para começar eu selecionei uma amostra aleatória de 600 instâncias e as removi do conjunto não rotulado, para fazer o rótulo dessas entidades eu optei por utilizar o Argilla devido a possibilidade de subir um container localmente, evitando o vazamento desses dados, uma etapa que seria necessária no meu ambiente do estágio.<br>\n",
    "O conjunto de dados que será rotulado é \"labedMadeiraDescricao.csv\" e o restante está no conjunto \"unlabeledMadeiraDescricao.csv\".<br>\n",
    "Esse foi o resultado final 564 dos 600 erão produtos de madeira e foram rotulados, o restante não será utilizado.<br>\n",
    "<img src=\"images/argilla.jpg\" alt=\"Argilla\" width=\"400\"><br>\n",
    "Agora que temos o conjunto de avaliação rotulado, \"labeledTokenClassification.csv\" podemos começar a resolver a tarefa.\n",
    "</h4>"
   ]
  },
  {
   "cell_type": "code",
   "execution_count": 50,
   "metadata": {},
   "outputs": [],
   "source": [
    "import pandas as pd\n",
    "\n",
    "pd.set_option('display.max_colwidth', 100)\n",
    "pd.set_option('display.max_rows', 100)\n",
    "\n",
    "df_val_test = pd.read_csv('dataset/labeledTokenClassification.csv')\n",
    "df_unlabeled = pd.read_csv('dataset/unlabeledMadeiraDescricao.csv')"
   ]
  },
  {
   "cell_type": "code",
   "execution_count": 51,
   "metadata": {},
   "outputs": [
    {
     "data": {
      "text/plain": [
       "100"
      ]
     },
     "execution_count": 51,
     "metadata": {},
     "output_type": "execute_result"
    }
   ],
   "source": [
    "## Test primeiros 100\n",
    "df_unlabeled = df_unlabeled[:100]\n",
    "len(df_unlabeled)"
   ]
  },
  {
   "cell_type": "markdown",
   "metadata": {},
   "source": [
    "<h4>\n",
    "Selecionar apenas as instâncias com o status de completo, para evitar utilizar as descrições que não são produtos de madeira.\n",
    "</h4>"
   ]
  },
  {
   "cell_type": "code",
   "execution_count": 52,
   "metadata": {},
   "outputs": [],
   "source": [
    "df_val_test = df_val_test[df_val_test.status == 'completed']"
   ]
  },
  {
   "cell_type": "markdown",
   "metadata": {},
   "source": [
    "<h4>\n",
    "Vamos separar em dois conjuntos, um para validação e outro para teste.\n",
    "</h4>"
   ]
  },
  {
   "cell_type": "code",
   "execution_count": 53,
   "metadata": {},
   "outputs": [
    {
     "name": "stdout",
     "output_type": "stream",
     "text": [
      "282 282\n"
     ]
    }
   ],
   "source": [
    "from sklearn.model_selection import train_test_split\n",
    "\n",
    "df_val, df_test = train_test_split(\n",
    "    df_val_test,\n",
    "    test_size=0.5,       \n",
    "    random_state=1, # Necessário a mudança caso utilizar o conjunto de teste\n",
    "    shuffle=True         \n",
    ")\n",
    "print(len(df_val), len(df_test))"
   ]
  },
  {
   "cell_type": "code",
   "execution_count": 54,
   "metadata": {},
   "outputs": [
    {
     "data": {
      "text/plain": [
       "100"
      ]
     },
     "execution_count": 54,
     "metadata": {},
     "output_type": "execute_result"
    }
   ],
   "source": [
    "len(df_unlabeled)"
   ]
  },
  {
   "cell_type": "markdown",
   "metadata": {},
   "source": [
    "## Conversão para Objetos do Spacy"
   ]
  },
  {
   "cell_type": "code",
   "execution_count": 55,
   "metadata": {},
   "outputs": [],
   "source": [
    "import skweak\n",
    "import spacy\n",
    "\n",
    "nlp = spacy.load(\"pt_core_news_lg\")"
   ]
  },
  {
   "cell_type": "code",
   "execution_count": 56,
   "metadata": {},
   "outputs": [
    {
     "name": "stdout",
     "output_type": "stream",
     "text": [
      "Write to artefatos/spacy_docs_train.bin...done\n",
      "Write to artefatos/spacy_docs_dev.bin...done\n",
      "Write to artefatos/spacy_docs_test.bin...done\n"
     ]
    }
   ],
   "source": [
    "spacy_docs_train = list(nlp.pipe(df_unlabeled[\"text\"].values))\n",
    "\n",
    "spacy_docs_dev = list(nlp.pipe(df_val[\"text\"].values))\n",
    "\n",
    "spacy_docs_test = list(nlp.pipe(df_test[\"text\"].values))\n",
    "\n",
    "skweak.utils.docbin_writer(spacy_docs_train, \"artefatos/spacy_docs_train.bin\")\n",
    "skweak.utils.docbin_writer(spacy_docs_dev, \"artefatos/spacy_docs_dev.bin\")\n",
    "skweak.utils.docbin_writer(spacy_docs_test, \"artefatos/spacy_docs_test.bin\")"
   ]
  },
  {
   "cell_type": "code",
   "execution_count": 21,
   "metadata": {},
   "outputs": [],
   "source": [
    "# Load the training documents\n",
    "spacy_docs_train = skweak.utils.docbin_reader(\n",
    "    \"artefatos/spacy_docs_train.bin\", spacy_model_name=\"pt_core_news_lg\"\n",
    ")\n",
    "\n",
    "# Load the validation documents\n",
    "spacy_docs_dev = skweak.utils.docbin_reader(\n",
    "    \"artefatos/spacy_docs_dev.bin\", spacy_model_name=\"pt_core_news_lg\"\n",
    ")\n",
    "\n",
    "# Load the test documents\n",
    "spacy_docs_test = skweak.utils.docbin_reader(\n",
    "    \"artefatos/spacy_docs_dev.bin\", spacy_model_name=\"pt_core_news_lg\"\n",
    ")\n",
    "\n",
    "# Convert the loaded documents to lists\n",
    "# This step ensures that the documents are in a list format, which is easier to work with in subsequent steps\n",
    "spacy_docs_train = list(spacy_docs_train)\n",
    "spacy_docs_dev = list(spacy_docs_dev)\n",
    "spacy_docs_test = list(spacy_docs_test)"
   ]
  },
  {
   "cell_type": "code",
   "execution_count": 22,
   "metadata": {},
   "outputs": [
    {
     "data": {
      "text/plain": [
       "[angelim verm aproveitamento ripas, caibro mixto 4,5mt]"
      ]
     },
     "execution_count": 22,
     "metadata": {},
     "output_type": "execute_result"
    }
   ],
   "source": [
    "spacy_docs_train[:2]"
   ]
  },
  {
   "cell_type": "markdown",
   "metadata": {},
   "source": [
    "## 1.Criação de funções de rotulagem"
   ]
  },
  {
   "cell_type": "markdown",
   "metadata": {},
   "source": [
    "<h4>\n",
    "Vamos precisar fazer funções de rotulagem para cada uma das entidades de interesse, <mark>ESPECIE</mark>, <mark>CORTE</mark>, <mark>DIMENSAO</mark>.<br>\n",
    "Para as funções de rotulagem de ESPECIE, podemos começar com o seu nome popular e sinônimos. Eu já tenho um dicionário que desenvolvi na época com as espécies mais relavantes para o nosso domínio no mercado do estado do RN.<br>\n",
    "Por isso irei partir dele e adicionar alguns casos simples para compensar a falta da função de Levenshtein que utilizei na época para aceitar pequenas alterações na variação das palavras.\n",
    "</h4>"
   ]
  },
  {
   "cell_type": "code",
   "execution_count": 23,
   "metadata": {},
   "outputs": [],
   "source": [
    "madeiras_dicionario = {\n",
    "    'acacia': ['angico'],\n",
    "    'acapu': ['angelim de folha larga'],\n",
    "    'amapa': [],\n",
    "    'amescla': ['amesclao', 'breu', 'morcegueira', 'sucuruba'],\n",
    "    'andiroba': ['angirova', 'carapa'],\n",
    "    'angelim amargoso': ['angelim amarelo', 'fava', 'fava amargosa', 'faveira'],\n",
    "    'angelim pedra': ['angelim verm', 'angelim vermelho', 'angelim falso', 'faveira ferro'],\n",
    "    'angelim indefinido': ['angelim', 'angelin', 'ang', 'ange'],\n",
    "    'cedrinho': ['quaruba', 'quaruvatinga', 'mandioqueira', 'quaruba vermelha'],\n",
    "    'cedro': [],\n",
    "    'cerejeira': [],\n",
    "    'cetim': ['pau amarelo', 'pau cetim', 'piquia cetim', 'garapa', ' muirajuba'],\n",
    "    'coco pau': ['baru'],\n",
    "    'copaiba': ['cupauba', 'copauva'],\n",
    "    'cumaru': ['cumaru de folha grande', 'cumbar', 'cumbaru roxo', 'cumbaru'],\n",
    "    'cupiuba': ['copiuba', 'copiuva'],\n",
    "    'eucalipto': ['euc', 'ecalipto', 'eucalipito'],\n",
    "    'freijo': [],\n",
    "    'garapeira': [],\n",
    "    'goiabao': ['abiu', 'abiurana'],\n",
    "    'guajara': ['currupixa', 'angico-bravo', 'angico-cedro', 'angico-rosa', 'curupia'],\n",
    "    'ipe': [],\n",
    "    'itauba': [],\n",
    "    'jatoba': ['jatai', 'utai', 'jati'],\n",
    "    'jequitiba': ['cachimbeiro', 'estopeira', 'coatinga', 'bingueiro'],\n",
    "    'louro amarelo': ['louro pardo, louro abacate', 'louro inhamui'],\n",
    "    'louro canela': ['louro rosa', 'louro gamela', 'louro vermelho'],\n",
    "    'louro indefinido': ['louro'],\n",
    "    'louro preto': [],\n",
    "    'marupa': [],\n",
    "    'massaranduba': ['macaranduba', 'masaranduba', 'maparajuba', 'aparaui', 'paraju', 'mass', 'massa'],\n",
    "    'matamata': [],\n",
    "    'melanceira': ['sucupira-pepino'],\n",
    "    'mogno': [],\n",
    "    'muiracatiara': [],\n",
    "    'para para': ['morototo', 'mandioqueira'],\n",
    "    'pau louro': [],\n",
    "    'pau mulato': [],\n",
    "    'peroba': ['amapa amargoso', 'parahancornia'],\n",
    "    'pinho': ['araucaria'],\n",
    "    'pinus': ['pinheiro', 'pinnus'],\n",
    "    'piquia': ['piqui', 'piquiarana', 'pequia'],\n",
    "    'roxinho': ['pau roxo', 'guarabu', 'pau ferro'],\n",
    "    'sapucaia': ['jarana'],\n",
    "    'sucupira': ['cutiba', 'sapupira', 'sebepira'],\n",
    "    'sumauma': ['ceiba'],\n",
    "    'tanimbuca': ['amarelao', 'mirindiba', 'embiridiba', 'cuiarana ,carana', 'mangue'],\n",
    "    'tatajuba': ['amarelo', 'amarelinho', 'garrote', 'bagaceira'],\n",
    "    'tauari': ['imbirema', 'estopeiro', 'toari'],\n",
    "    'taxi': [],\n",
    "    'timborana': ['timbauba', 'angico'],\n",
    "    'uxi': ['axua', 'cumate', 'paruru'],\n",
    "    'mista': ['misto', 'mixta', 'mix'],\n",
    "    'virola': ['ucuuba']\n",
    "}"
   ]
  },
  {
   "cell_type": "markdown",
   "metadata": {},
   "source": [
    "<h4>\n",
    "Além dos nomes populares e sinônimos também podemos fazer funções de rotulagem para a entidade ESPECIE utilizando o nome ciêntifico da espécie de madeira.<br>\n",
    "Essas funções não serão tão valiosas pela característica das descrições. Normalmente quando o nome ciêntifico está na descrição do produto ele está acompanhado do nome popular.<br>\n",
    "Mesmo assim eu achei relevante coletar essas entidades, porém irei utilizar um outro dicionário para tal, dessa forma poderemos diferenciar qual a fonte de rotulagem para a ESPECIE.\n",
    "</h4>"
   ]
  },
  {
   "cell_type": "code",
   "execution_count": 24,
   "metadata": {},
   "outputs": [],
   "source": [
    "cientifico_madeiras_dicionario = {\n",
    "    'acapu': ['vouacapoua americana', 'vouacapoua'],\n",
    "    'amapa': ['parahancornia amapa', 'parahancornia'],\n",
    "    'amescla': ['protium heptaphyllum', 'protium', 'heptaphyllum'],\n",
    "    'andiroba': ['carapa guianensis', 'carapa', 'guianensis'],\n",
    "    'angelim amargoso': ['vatairea sericea', 'vatairea', 'sericea'],\n",
    "    'angelim pedra': ['hymenolobium petraeum', 'hymenolobium', 'petraeum'],\n",
    "    'angelim indefinido': ['dinizia excelsa', 'dinizia', 'excelsa'],\n",
    "    'cedrinho': ['erisma uncinatum', 'erisma', 'uncinatum'],\n",
    "    'cedro': ['cedrela fissilis', 'cedrela', 'fissilis'],\n",
    "    'cerejeira': ['amburana cearensis', 'amburana', 'cearensis'],\n",
    "    'cetim': ['cedrelinga cateniformis', 'cedrelinga', 'cateniformis'],\n",
    "    'coco pau': ['orbygnia phalerata', 'orbygnia', 'phalerata'],\n",
    "    'copaiba': ['copaifera langsdorffii', 'copaifera', 'langsdorffii'],\n",
    "    'cumaru': ['dipteryx odorata', 'dipteryx', 'odorata'],\n",
    "    'cupiuba': ['goupia glabra', 'goupia', 'glabra'],\n",
    "    'eucalipto': ['eucalyptus'],\n",
    "    'freijo': ['cordia goeldiana', 'cordia', 'goeldiana'],\n",
    "    'garapeira': ['apuleia leiocarpa', 'apuleia', 'leiocarpa'],\n",
    "    'goiabao': ['qualea'],\n",
    "    'guajara': ['terminalia amazonia', 'terminalia', 'amazonia'],\n",
    "    'ipe': ['handroanthus'],\n",
    "    'itauba': ['mezilaurus itauba', 'mezilaurus', 'itauba'],\n",
    "    'jatoba': ['hymenaea courbaril', 'hymenaea', 'courbaril'],\n",
    "    'jequitiba': ['cariniana legalis', 'cariniana', 'legalis'],\n",
    "    'louro amarelo': ['ocotea'],\n",
    "    'louro canela': ['nectandra'],\n",
    "    'louro indefinido': ['ocotea'],\n",
    "    'louro preto': ['ocotea porosa', 'ocotea', 'porosa'],\n",
    "    'marupa': ['simarouba amara', 'simarouba', 'amara'],\n",
    "    'massaranduba': ['manilkara huberi', 'manilkara', 'huberi'],\n",
    "    'matamata': ['eschweilera'],\n",
    "    'melanceira': ['trattinnickia burserifolia', 'trattinnickia', 'burserifolia'],\n",
    "    'mogno': ['swietenia macrophylla', 'swietenia', 'macrophylla'],\n",
    "    'muiracatiara': ['astronium lecointei', 'astronium', 'lecointei'],\n",
    "    'para para': ['jacaranda copaia', 'jacaranda', 'copaia'],\n",
    "    'pau louro': ['ocotea'],\n",
    "    'pau mulato': ['calycophyllum spruceanum', 'calycophyllum', 'spruceanum'],\n",
    "    'peroba': ['aspidosperma'],\n",
    "    'pinho': ['araucaria angustifolia', 'araucaria', 'angustifolia'],\n",
    "    'pinus': ['pinus'],\n",
    "    'piquia': ['caryocar villosum', 'caryocar', 'villosum'],\n",
    "    'roxinho': ['peltogyne'],\n",
    "    'sapucaia': ['lecythis pisonis', 'lecythis', 'pisonis'],\n",
    "    'sucupira': ['bowdichia virgilioides', 'bowdichia', 'virgilioides'],\n",
    "    'sumauma': ['ceiba pentandra', 'ceiba', 'pentandra'],\n",
    "    'tanimbuca': ['buchenavia tetraphylla', 'buchenavia', 'tetraphylla'],\n",
    "    'tatajuba': ['bagassa guianensis', 'bagassa', 'guianensis'],\n",
    "    'tauari': ['couratari'],\n",
    "    'taxi': ['sclerolobium'],\n",
    "    'timborana': ['enterolobium schomburgkii', 'enterolobium', 'schomburgkii'],\n",
    "    'uxi': ['endopleura uchi', 'endopleura', 'uchi'],\n",
    "    'virola': ['virola']\n",
    "}"
   ]
  },
  {
   "cell_type": "markdown",
   "metadata": {},
   "source": [
    "<h4>\n",
    "Para a entidade de <mark>CORTE</mark> podemos fazer um processo bem similar ao do primeiro dicionário de madeira, utilizando o nome popular do tipo de corte e o seu sinônimo.<br>\n",
    "Similar ao caso de dicionário também teremos que compensar pelo fator de que eu não estou usando Levenshtein, por isso precisamos aceitar erros comuns\n",
    "</h4>"
   ]
  },
  {
   "cell_type": "code",
   "execution_count": 25,
   "metadata": {},
   "outputs": [],
   "source": [
    "apresentacoes_dicionario ={\n",
    "                            'alizar': ['alisar'],\n",
    "                            'barrote':[],\n",
    "                            'caibro':['caibrinho'],\n",
    "                            'frechal': [],\n",
    "                            'janela': ['janelao'],\n",
    "                            'linha':[],\n",
    "                            'mourao': [],\n",
    "                            'quadrado': ['quadradro', 'bloco', 'file', 'quadradinho'],\n",
    "                            'piquete': [],\n",
    "                            'pontalete': [],\n",
    "                            'porta': ['portal', 'aduela'],\n",
    "                            'prancha':['pranchoes', 'pranchinha', 'pranchao'],\n",
    "                            'ripa':['ripao'],\n",
    "                            'tabua':['tauba'],\n",
    "                            'taipa':[],\n",
    "                            'sarrafo':['serrafo'],\n",
    "                            'viga':['virga','vigota', 'poste']\n",
    "                            }"
   ]
  },
  {
   "cell_type": "markdown",
   "metadata": {},
   "source": [
    "<h4>\n",
    "E também irei complementar com o plural dos tipos de corte que terminam em vogal.\n",
    "</h4>"
   ]
  },
  {
   "cell_type": "code",
   "execution_count": 26,
   "metadata": {},
   "outputs": [],
   "source": [
    "def adc_plural(apresentacoes_dict):\n",
    "    updated_dict = {}\n",
    "    for key, synonyms in apresentacoes_dict.items():\n",
    "        pluralized_synonyms = []\n",
    "        \n",
    "        if key[-1].lower() in{'a', 'e', 'i', 'o', 'u'}:\n",
    "            plural = key + \"s\"\n",
    "        \n",
    "            if plural not in synonyms:\n",
    "                pluralized_synonyms.append(plural)\n",
    "\n",
    "        for term in synonyms:\n",
    "            pluralized_synonyms.append(term)\n",
    "            \n",
    "            if term and term[-1].lower() in {'a', 'e', 'i', 'o', 'u'}:\n",
    "                if \" \" in term:\n",
    "                    parts = term.split()\n",
    "                    parts[-1] += \"s\"\n",
    "                    plural = \" \".join(parts)\n",
    "                else:\n",
    "                    plural = term + \"s\"\n",
    "                pluralized_synonyms.append(plural)\n",
    "        \n",
    "        seen = set()\n",
    "        unique_synonyms = [t for t in pluralized_synonyms \n",
    "                          if not (t in seen or seen.add(t))]\n",
    "        \n",
    "        updated_dict[key] = unique_synonyms\n",
    "        \n",
    "    return updated_dict\n",
    "\n",
    "apresentacoes_dicionario = adc_plural(apresentacoes_dicionario)"
   ]
  },
  {
   "cell_type": "markdown",
   "metadata": {},
   "source": [
    "<h4>\n",
    "A coleta das dimensões do produto de madeira foi um dos maiores desafios, porque as descrições normalmente não seguem um padrão, o contribuinte quando escreve essa informação muitas vezes não coloca a dimensão associada a um número, como por exemplo \"linha massaranduba 5 x 12\", conseguimos assumir logicamente ao olhar para esse exemplo que não será 5 por 12 metros e muito provavelmente essa medida está em centímetros, existem alguns exemplos em que essa dimensão é ambígua, mas no geral conseguimos inferir.<br>\n",
    "Além disso, outro problema é que esses números podem estar soltos no texto, como em descrições do tipo \"linha 5x28 cm angelim c/ 6,0 mt\", então precisaremos considerar diversos tipos de padrões ao fazer as funções anotadoras para a entidade de <mark>DIMENSAO</mark>.\n",
    "</h4>"
   ]
  },
  {
   "cell_type": "code",
   "execution_count": 27,
   "metadata": {},
   "outputs": [],
   "source": [
    "import re\n",
    "## (PALAVRA) pode conter uma palavra | PALAVRA precisa conter uma palavra.\n",
    "padroes = [\n",
    "    # NUM X NUM X NUM (PALAVRA) -- 2.5 x 3 x 4 cm\n",
    "    r'\\b(\\d+[\\.,]?\\d*)\\s*x\\s*(\\d+[\\.,]?\\d*)\\s*x\\s*(\\d+[\\.,]?\\d*)\\s*([a-z]*)', \n",
    "    # NUM PALAVRA X NUM PALAVRA X NUM PALAVRA -- 2.5 cm x 3 m x 4 mm\n",
    "    r'\\b(\\d+[\\.,]?\\d*)\\s*([a-z]+)\\s*x\\s*(\\d+[\\.,]?\\d*)\\s*([a-z]+)\\s*x\\s*(\\d+[\\.,]?\\d*)\\s*([a-z]+)\\b', \n",
    "    # NUM X NUM (PALAVRA) -- 2 x 3 cm\n",
    "    r'\\b(\\d+[\\.,]?\\d*)\\s*x\\s*(\\d+[\\.,]?\\d*)\\s*([a-z]*)', \n",
    "    # NUM PALAVRA X NUM PALAVRA -- 2cm x 3m\n",
    "    r'\\b(\\d+[\\.,]?\\d*)\\s*([a-z]+)\\s*x\\s*(\\d+[\\.,]?\\d*)\\s*([a-z]+)\\b',\n",
    "    # NUM X NUM -- 2.5 x 3\n",
    "    r'\\b(\\d+[\\.,]?\\d*)\\s*x\\s*(\\d+[\\.,]?\\d*)\\b',\n",
    "    # NUM (m, cm, mm, metro, metros, pol) -- 2 metros | Mais restrito para evitar coletar número de série ou lixo nas descrições\n",
    "    r'\\b(\\d+[\\.,]?\\d*)\\s*(m|cm|mm|metro|metros|pol)\\b'\n",
    "]\n",
    "\n",
    "padroes_compilados = [re.compile(padrao, re.IGNORECASE) for padrao in padroes]"
   ]
  },
  {
   "cell_type": "markdown",
   "metadata": {},
   "source": [
    "<h4>\n",
    "Vamos criar uma heurística para a dimensão, se um dos padrões acontece inferimos que aquele termo está representando uma dimensão.\n",
    "</h4>"
   ]
  },
  {
   "cell_type": "code",
   "execution_count": 28,
   "metadata": {},
   "outputs": [],
   "source": [
    "def detectar_dimensao(doc):\n",
    "    text = doc.text\n",
    "    for padrao in padroes_compilados:\n",
    "        for match in padrao.finditer(text):\n",
    "            start_char, end_char = match.span()\n",
    "            span = doc.char_span(start_char, end_char, alignment_mode=\"expand\")\n",
    "            if span:\n",
    "                yield span.start, span.end, \"DIMENSAO\""
   ]
  },
  {
   "cell_type": "code",
   "execution_count": 29,
   "metadata": {},
   "outputs": [],
   "source": [
    "from skweak import heuristics\n",
    "dimensao_annotator = heuristics.FunctionAnnotator(\n",
    "    \"dimensao_annotator\", \n",
    "    detectar_dimensao,\n",
    ")"
   ]
  },
  {
   "cell_type": "code",
   "execution_count": 30,
   "metadata": {},
   "outputs": [],
   "source": [
    "from skweak.gazetteers import GazetteerAnnotator, Trie\n",
    "from skweak.base import CombinedAnnotator"
   ]
  },
  {
   "cell_type": "code",
   "execution_count": 31,
   "metadata": {},
   "outputs": [],
   "source": [
    "especie_terms = []\n",
    "for key, synonyms in madeiras_dicionario.items():\n",
    "    especie_terms.append(key)\n",
    "    especie_terms.extend(synonyms)\n",
    "\n",
    "cientifico_especie_terms = []\n",
    "for key, cientifico in cientifico_madeiras_dicionario.items():\n",
    "    cientifico_especie_terms.extend(cientifico)\n",
    "\n",
    "corte_terms = []\n",
    "for key, synonyms in apresentacoes_dicionario.items():\n",
    "    corte_terms.append(key)\n",
    "    corte_terms.extend(synonyms)"
   ]
  },
  {
   "cell_type": "code",
   "execution_count": 32,
   "metadata": {},
   "outputs": [],
   "source": [
    "def build_trie(term_list):\n",
    "    \"\"\"Convert a list of terms into a trie of token sequences\"\"\"\n",
    "    trie = Trie()\n",
    "    for term in term_list:\n",
    "        tokens = term.split()\n",
    "        trie.add(tokens)\n",
    "    return trie\n",
    "\n",
    "especie_trie = build_trie(especie_terms)\n",
    "cientifico_especie_trie = build_trie(cientifico_especie_terms)\n",
    "corte_trie = build_trie(corte_terms)"
   ]
  },
  {
   "cell_type": "code",
   "execution_count": 33,
   "metadata": {},
   "outputs": [
    {
     "data": {
      "text/plain": [
       "[['vouacapoua'], ['vouacapoua', 'americana'], ['parahancornia'], ['parahancornia', 'amapa'], ['protium'], ['protium', 'heptaphyllum'], ['heptaphyllum'], ['carapa'], ['carapa', 'guianensis'], ['guianensis'], ['vatairea'], ['vatairea', 'sericea'], ['sericea'], ['hymenolobium'], ['hymenolobium', 'petraeum'], ['petraeum'], ['dinizia'], ['dinizia', 'excelsa'], ['excelsa'], ['erisma'], ['erisma', 'uncinatum'], ['uncinatum'], ['cedrela'], ['cedrela', 'fissilis'], ['fissilis'], ['amburana'], ['amburana', 'cearensis'], ['cearensis'], ['cedrelinga'], ['cedrelinga', 'cateniformis'], ['cateniformis'], ['orbygnia'], ['orbygnia', 'phalerata'], ['phalerata'], ['copaifera'], ['copaifera', 'langsdorffii'], ['langsdorffii'], ['dipteryx'], ['dipteryx', 'odorata'], ['odorata'], ['goupia'], ['goupia', 'glabra'], ['glabra'], ['eucalyptus'], ['cordia'], ['cordia', 'goeldiana'], ['goeldiana'], ['apuleia'], ['apuleia', 'leiocarpa'], ['leiocarpa'], ['qualea'], ['terminalia'], ['terminalia', 'amazonia'], ['amazonia'], ['handroanthus'], ['mezilaurus'], ['mezilaurus', 'itauba'], ['itauba'], ['hymenaea'], ['hymenaea', 'courbaril'], ['courbaril'], ['cariniana'], ['cariniana', 'legalis'], ['legalis'], ['ocotea'], ['ocotea', 'porosa'], ['nectandra'], ['porosa'], ['simarouba'], ['simarouba', 'amara'], ['amara'], ['manilkara'], ['manilkara', 'huberi'], ['huberi'], ['eschweilera'], ['trattinnickia'], ['trattinnickia', 'burserifolia'], ['burserifolia'], ['swietenia'], ['swietenia', 'macrophylla'], ['macrophylla'], ['astronium'], ['astronium', 'lecointei'], ['lecointei'], ['jacaranda'], ['jacaranda', 'copaia'], ['copaia'], ['calycophyllum'], ['calycophyllum', 'spruceanum'], ['spruceanum'], ['aspidosperma'], ['araucaria'], ['araucaria', 'angustifolia'], ['angustifolia'], ['pinus'], ['caryocar'], ['caryocar', 'villosum'], ['villosum'], ['peltogyne'], ['lecythis'], ['lecythis', 'pisonis'], ['pisonis'], ['bowdichia'], ['bowdichia', 'virgilioides'], ['virgilioides'], ['ceiba'], ['ceiba', 'pentandra'], ['pentandra'], ['buchenavia'], ['buchenavia', 'tetraphylla'], ['tetraphylla'], ['bagassa'], ['bagassa', 'guianensis'], ['couratari'], ['sclerolobium'], ['enterolobium'], ['enterolobium', 'schomburgkii'], ['schomburgkii'], ['endopleura'], ['endopleura', 'uchi'], ['uchi'], ['virola']]"
      ]
     },
     "execution_count": 33,
     "metadata": {},
     "output_type": "execute_result"
    }
   ],
   "source": [
    "cientifico_especie_trie"
   ]
  },
  {
   "cell_type": "code",
   "execution_count": 34,
   "metadata": {},
   "outputs": [],
   "source": [
    "especie_annotator = GazetteerAnnotator(\"especie_annotator\", {\"ESPECIE\": especie_trie})\n",
    "cientifico_especie_annotator = GazetteerAnnotator(\"cientifico_especie_annotator\", {\"ESPECIE\": cientifico_especie_trie})\n",
    "corte_annotator = GazetteerAnnotator(\"corte_annotator\", {\"CORTE\": corte_trie})"
   ]
  },
  {
   "cell_type": "code",
   "execution_count": 35,
   "metadata": {},
   "outputs": [
    {
     "data": {
      "text/plain": [
       "<skweak.base.CombinedAnnotator at 0x24cac046110>"
      ]
     },
     "execution_count": 35,
     "metadata": {},
     "output_type": "execute_result"
    }
   ],
   "source": [
    "combined = CombinedAnnotator()\n",
    "combined.add_annotator(especie_annotator)\n",
    "combined.add_annotator(cientifico_especie_annotator)\n",
    "combined.add_annotator(corte_annotator)\n",
    "combined.add_annotator(dimensao_annotator)"
   ]
  },
  {
   "cell_type": "code",
   "execution_count": 36,
   "metadata": {},
   "outputs": [
    {
     "data": {
      "text/html": [
       "<span class=\"tex2jax_ignore\"><div class=\"entities\" style=\"line-height: 2.5; direction: ltr\">madeira serrada \n",
       "<mark class=\"entity\" style=\"background: #ddd; padding: 0.45em 0.6em; margin: 0 0.25em; line-height: 1; border-radius: 0.35em;\">\n",
       "    massaranduba\n",
       "    <span style=\"font-size: 0.8em; font-weight: bold; line-height: 1; border-radius: 0.35em; vertical-align: middle; margin-left: 0.5rem\">ESPECIE</span>\n",
       "</mark>\n",
       " (\n",
       "<mark class=\"entity\" style=\"background: #ddd; padding: 0.45em 0.6em; margin: 0 0.25em; line-height: 1; border-radius: 0.35em;\">\n",
       "    manilkara huberi\n",
       "    <span style=\"font-size: 0.8em; font-weight: bold; line-height: 1; border-radius: 0.35em; vertical-align: middle; margin-left: 0.5rem\">ESPECIE</span>\n",
       "</mark>\n",
       ") \n",
       "<mark class=\"entity\" style=\"background: #ddd; padding: 0.45em 0.6em; margin: 0 0.25em; line-height: 1; border-radius: 0.35em;\">\n",
       "    2.5 metro\n",
       "    <span style=\"font-size: 0.8em; font-weight: bold; line-height: 1; border-radius: 0.35em; vertical-align: middle; margin-left: 0.5rem\">DIMENSAO</span>\n",
       "</mark>\n",
       " 2 \n",
       "<mark class=\"entity\" style=\"background: #ddd; padding: 0.45em 0.6em; margin: 0 0.25em; line-height: 1; border-radius: 0.35em;\">\n",
       "    vigas\n",
       "    <span style=\"font-size: 0.8em; font-weight: bold; line-height: 1; border-radius: 0.35em; vertical-align: middle; margin-left: 0.5rem\">CORTE</span>\n",
       "</mark>\n",
       " de \n",
       "<mark class=\"entity\" style=\"background: #ddd; padding: 0.45em 0.6em; margin: 0 0.25em; line-height: 1; border-radius: 0.35em;\">\n",
       "    10x15cm\n",
       "    <span style=\"font-size: 0.8em; font-weight: bold; line-height: 1; border-radius: 0.35em; vertical-align: middle; margin-left: 0.5rem\">DIMENSAO</span>\n",
       "</mark>\n",
       " e 3 \n",
       "<mark class=\"entity\" style=\"background: #ddd; padding: 0.45em 0.6em; margin: 0 0.25em; line-height: 1; border-radius: 0.35em;\">\n",
       "    tabuas\n",
       "    <span style=\"font-size: 0.8em; font-weight: bold; line-height: 1; border-radius: 0.35em; vertical-align: middle; margin-left: 0.5rem\">CORTE</span>\n",
       "</mark>\n",
       " de \n",
       "<mark class=\"entity\" style=\"background: #ddd; padding: 0.45em 0.6em; margin: 0 0.25em; line-height: 1; border-radius: 0.35em;\">\n",
       "    2,5x30x200cm\n",
       "    <span style=\"font-size: 0.8em; font-weight: bold; line-height: 1; border-radius: 0.35em; vertical-align: middle; margin-left: 0.5rem\">DIMENSAO</span>\n",
       "</mark>\n",
       "</div></span>"
      ],
      "text/plain": [
       "<IPython.core.display.HTML object>"
      ]
     },
     "metadata": {},
     "output_type": "display_data"
    }
   ],
   "source": [
    "doc = nlp(\"madeira serrada massaranduba (manilkara huberi) 2.5 metro 2 vigas de 10x15cm e 3 tabuas de 2,5x30x200cm\")\n",
    "combined(doc)\n",
    "skweak.utils.display_entities(doc, [\"especie_annotator\", \"cientifico_especie_annotator\", \"corte_annotator\", \"dimensao_annotator\"])"
   ]
  },
  {
   "cell_type": "code",
   "execution_count": 37,
   "metadata": {},
   "outputs": [
    {
     "name": "stdout",
     "output_type": "stream",
     "text": [
      "ESPECIE: ['massaranduba']\n",
      "ESPECIE: ['manilkara huberi']\n",
      "CORTE: ['vigas', 'tabuas']\n",
      "DIMENSAO: ['2,5x30x200cm', '10x15cm', '2,5x30x200', '2.5 metro']\n"
     ]
    }
   ],
   "source": [
    "print(\"ESPECIE:\", [ent.text for ent in doc.spans[\"especie_annotator\"]])\n",
    "print(\"ESPECIE:\", [ent.text for ent in doc.spans[\"cientifico_especie_annotator\"]])\n",
    "print(\"CORTE:\", [ent.text for ent in doc.spans[\"corte_annotator\"]])\n",
    "print(\"DIMENSAO:\", [ent.text for ent in doc.spans[\"dimensao_annotator\"]])"
   ]
  },
  {
   "cell_type": "markdown",
   "metadata": {},
   "source": [
    "<h4>\n",
    "Utilizando um exemplo do conjunto de treinamento.\n",
    "</h4>"
   ]
  },
  {
   "cell_type": "code",
   "execution_count": 38,
   "metadata": {},
   "outputs": [
    {
     "data": {
      "text/html": [
       "<span class=\"tex2jax_ignore\"><div class=\"entities\" style=\"line-height: 2.5; direction: ltr\">\n",
       "<mark class=\"entity\" style=\"background: #ddd; padding: 0.45em 0.6em; margin: 0 0.25em; line-height: 1; border-radius: 0.35em;\">\n",
       "    angelim verm\n",
       "    <span style=\"font-size: 0.8em; font-weight: bold; line-height: 1; border-radius: 0.35em; vertical-align: middle; margin-left: 0.5rem\">ESPECIE</span>\n",
       "</mark>\n",
       " aproveitamento \n",
       "<mark class=\"entity\" style=\"background: #ddd; padding: 0.45em 0.6em; margin: 0 0.25em; line-height: 1; border-radius: 0.35em;\">\n",
       "    ripas\n",
       "    <span style=\"font-size: 0.8em; font-weight: bold; line-height: 1; border-radius: 0.35em; vertical-align: middle; margin-left: 0.5rem\">CORTE</span>\n",
       "</mark>\n",
       "</div></span>"
      ],
      "text/plain": [
       "<IPython.core.display.HTML object>"
      ]
     },
     "metadata": {},
     "output_type": "display_data"
    }
   ],
   "source": [
    "doc = spacy_docs_train[0]\n",
    "\n",
    "combined(doc)\n",
    "\n",
    "skweak.utils.display_entities(doc, [\"especie_annotator\", \"cientifico_especie_annotator\", \"corte_annotator\", \"dimensao_annotator\"])"
   ]
  },
  {
   "cell_type": "code",
   "execution_count": 39,
   "metadata": {},
   "outputs": [],
   "source": [
    "from pydantic import BaseModel, Field\n",
    "from typing import List, Optional, Sequence\n",
    "\n",
    "class ESPECIE(BaseModel):\n",
    "    nome: Optional[str] = Field(None, description=\"Nome comercial da madeira.\")\n",
    "    nome_cientifico: Optional[str] = Field(None, description=\"Nome científico da madeira\")\n",
    "\n",
    "class CORTE(BaseModel):\n",
    "    nome: str = Field(..., description=\"Tipo do corte da madeira.\")\n",
    "\n",
    "class DIMENSAO(BaseModel):\n",
    "    medida: str = Field(..., description=\"Medidas do produto de madeira.\")\n",
    "\n",
    "class MadeiraInfo(BaseModel):\n",
    "    especies: Optional[List[ESPECIE]] = Field(default_factory=list, alias=\"ESPECIE\")\n",
    "    cortes: Optional[List[CORTE]] = Field(default_factory=list, alias=\"CORTE\")\n",
    "    dimensoes: Optional[List[DIMENSAO]] = Field(default_factory=list, alias=\"DIMENSAO\")\n"
   ]
  },
  {
   "cell_type": "code",
   "execution_count": 40,
   "metadata": {},
   "outputs": [],
   "source": [
    "system_prompt = \"\"\"Você é um especialista em produtos de madeira serrada. Extraia entidades no seguinte formato JSON:\n",
    "{\n",
    "  \"ESPECIE\": [\n",
    "    {\"nome\": \"nome_comum\", \"nome_cientifico\": \"nome_cientifico\"}\n",
    "  ],\n",
    "  \"CORTE\": [\n",
    "    {\"nome\": \"tipo_corte\"}\n",
    "  ],\n",
    "  \"DIMENSAO\": [\n",
    "    {\"medida\": \"valor_dimensao\"}\n",
    "  ]\n",
    "}\n",
    "Regras:\n",
    "- Mantenha os valores exatos do texto\n",
    "- Use sempre arrays mesmo para único elemento\n",
    "Dicionário para os campos:\n",
    "- ESPECIE: \n",
    "  - nome: O nome comercial de um tipo de madeira. (ex.: massaranduba, pinus, angelim, jatoba, mogno)\n",
    "  - nome_cientifico: O nome cientrifico de um tipo de madeira. (ex.: manilkara huberi, dinizia excelsa, swietenia macrophylla)\n",
    "- CORTE: O formato ou tipo da peça de madeira. (ex.: viga, tabua, ripa, barrote, caibro)\n",
    "- DIMENSOES: As dimensões da peça de madeira, representam o comprimento, largura e altura da peça. (ex.: 2.5x3x4cm, 2cm x 1.5cm x 1m, 2x3cm, 1cm x 2.5m, 2.5x3, 2 metros)\n",
    "Exemplo entrada: \n",
    "\"madeira massaranduba (manilkara huberi) em vigas 10x15cm\"\n",
    "Exemplo saída:\n",
    "{\n",
    "  \"ESPECIE\": [{\"nome\": \"massaranduba\", \"nome_cientifico\": \"manilkara huberi\"}],\n",
    "  \"CORTE\": [{\"nome\": \"vigas\"}],\n",
    "  \"DIMENSAO\": [{\"medida\": \"10x15cm\"}]}\"\"\""
   ]
  },
  {
   "cell_type": "code",
   "execution_count": 41,
   "metadata": {},
   "outputs": [],
   "source": [
    "# import ollama\n",
    "# def extract_wood_entities(text: str) -> MadeiraInfo:\n",
    "#     \"\"\"Extract entities using Ollama with structured JSON output\"\"\"\n",
    "#     response = ollama.chat(\n",
    "#         model='qwen3:4b',\n",
    "#         format='json',\n",
    "#         messages=[\n",
    "#             {\n",
    "#                 'role': 'system',\n",
    "#                 'content': system_prompt\n",
    "#             },\n",
    "#             {\n",
    "#                 'role': 'user',\n",
    "#                 'content': text\n",
    "#             }\n",
    "#         ],\n",
    "#         options={'temperature': 0.3}\n",
    "#     )\n",
    "#     return MadeiraInfo.model_validate_json(response['message']['content'])"
   ]
  },
  {
   "cell_type": "code",
   "execution_count": 42,
   "metadata": {},
   "outputs": [],
   "source": [
    "# def find_entity_spans(text: str, entities: MadeiraInfo) -> list[dict]:\n",
    "#     \"\"\"Find exact text spans for each entity\"\"\"\n",
    "#     results = []\n",
    "    \n",
    "#     def add_matches(value: str, label: str):\n",
    "#         if not value:\n",
    "#             return\n",
    "#         for match in re.finditer(re.escape(value.lower()), text.lower()):\n",
    "#             start = text.lower().find(value.lower(), match.start(), match.end())\n",
    "#             end = start + len(value)\n",
    "#             results.append({\n",
    "#                 'start': start,\n",
    "#                 'end': end,\n",
    "#                 'label': label,\n",
    "#                 'text': text[start:end]\n",
    "#             })\n",
    "    \n",
    "#     for especie in entities.especies:\n",
    "#         add_matches(especie.nome, \"ESPECIE\")\n",
    "#         add_matches(especie.nome_cientifico, \"ESPECIE\")\n",
    "    \n",
    "#     for corte in entities.cortes:\n",
    "#         add_matches(corte.nome, \"CORTE\")\n",
    "    \n",
    "#     for dimensao in entities.dimensoes:\n",
    "#         add_matches(dimensao.medida, \"DIMENSAO\")\n",
    "    \n",
    "#     seen = set()\n",
    "#     unique_results = []\n",
    "#     for res in results:\n",
    "#         key = (res['start'], res['end'], res['label'])\n",
    "#         if key not in seen:\n",
    "#             seen.add(key)\n",
    "#             unique_results.append(res)\n",
    "    \n",
    "#     return sorted(unique_results, key=lambda x: x['start'])"
   ]
  },
  {
   "cell_type": "code",
   "execution_count": 43,
   "metadata": {},
   "outputs": [],
   "source": [
    "\n",
    "# text = \"ripa de cedro 1cm x 5 cm 2 m\"\n",
    "# entities = extract_wood_entities(text)\n",
    "# spans = find_entity_spans(text, entities)\n",
    "\n",
    "# print(\"Extracted entities:\")\n",
    "# for span in spans:\n",
    "#     print(f\"{span['text']} ({span['label']}) [{span['start']}-{span['end']}]\")"
   ]
  },
  {
   "cell_type": "code",
   "execution_count": 44,
   "metadata": {},
   "outputs": [],
   "source": [
    "# from spacy import displacy\n",
    "\n",
    "# # Define a dictionary to map entity labels to specific colors for visualization\n",
    "# colors = {\n",
    "#     \"ESPECIE\": \"#2ECC71\",  # Green color for 'Medicamento' entities\n",
    "#     \"CORTE\": \"#3498DB\",  # Blue color for 'Procedimento' entities\n",
    "#     \"DIMENSAO\": \"#E74C3C\",  # Red color for 'Doença' entities\n",
    "# }\n",
    "\n",
    "# # Define options for displacy visualization, including the entity labels and their corresponding colors\n",
    "# options = {\"ents\": list(colors.keys()), \"colors\": colors}\n",
    "\n",
    "# # Prepare the data for rendering by displacy\n",
    "# # 'render_data' is a list of dictionaries, each containing the text and its corresponding entities\n",
    "# render_data = [{\"text\": text, \"ents\": spans}]\n",
    "\n",
    "# # Render the entities in the text using displacy with the specified options\n",
    "# # 'style=\"ent\"' specifies that we are visualizing named entities\n",
    "# # 'manual=True' indicates that we are providing the entities manually\n",
    "# # 'jupyter=True' ensures the visualization is displayed correctly in a Jupyter notebook\n",
    "# displacy.render(render_data, style=\"ent\", manual=True, jupyter=True, options=options)"
   ]
  },
  {
   "cell_type": "code",
   "execution_count": 45,
   "metadata": {},
   "outputs": [],
   "source": [
    "# text = df_unlabeled.text.iloc[0]\n",
    "# entities = extract_wood_entities(text)\n",
    "# spans = find_entity_spans(text, entities)\n",
    "\n",
    "# print(\"Extracted entities:\")\n",
    "# for span in spans:\n",
    "#     print(f\"{span['text']} ({span['label']}) [{span['start']}-{span['end']}]\")\n",
    "\n",
    "# render_data = [{\"text\": text, \"ents\": spans}]\n",
    "# displacy.render(render_data, style=\"ent\", manual=True, jupyter=True, options=options)"
   ]
  },
  {
   "cell_type": "code",
   "execution_count": 46,
   "metadata": {},
   "outputs": [],
   "source": [
    "# from spacy.tokens import Doc\n",
    "\n",
    "# def detectar_entidades_llm(doc: Doc):\n",
    "#     text = doc.text\n",
    "    \n",
    "#     try:\n",
    "#         entities = extract_wood_entities(text)\n",
    "#         spans = find_entity_spans(text, entities)\n",
    "        \n",
    "#         for span in spans:\n",
    "#             char_span = doc.char_span(\n",
    "#                 span['start'], \n",
    "#                 span['end'],\n",
    "#                 label=span['label'],\n",
    "#                 alignment_mode=\"expand\"\n",
    "#             )\n",
    "            \n",
    "#             if char_span and isinstance(char_span.start, int) and isinstance(char_span.end, int):\n",
    "#                 yield (char_span.start, char_span.end, span['label'])\n",
    "                \n",
    "#     except Exception as e:\n",
    "#         print(f\"Error processing document: {e}\")\n",
    "#         return"
   ]
  },
  {
   "cell_type": "code",
   "execution_count": 47,
   "metadata": {},
   "outputs": [],
   "source": [
    "# llm_annotator = heuristics.FunctionAnnotator(\n",
    "#     \"llm_annotator\",\n",
    "#     detectar_entidades_llm\n",
    "# )"
   ]
  },
  {
   "cell_type": "code",
   "execution_count": 48,
   "metadata": {},
   "outputs": [],
   "source": [
    "# combined.add_annotator(llm_annotator)"
   ]
  },
  {
   "cell_type": "code",
   "execution_count": 49,
   "metadata": {},
   "outputs": [],
   "source": [
    "# text = df_unlabeled.text.iloc[0]\n",
    "# doc = nlp(text)\n",
    "# combined(doc)\n",
    "# skweak.utils.display_entities(doc, [\"especie_annotator\", \"cientifico_especie_annotator\", \"corte_annotator\", \"dimensao_annotator\", \"llm_annotator\"])"
   ]
  },
  {
   "cell_type": "markdown",
   "metadata": {},
   "source": [
    "## Usando Gpt"
   ]
  },
  {
   "cell_type": "code",
   "execution_count": 57,
   "metadata": {},
   "outputs": [
    {
     "name": "stdout",
     "output_type": "stream",
     "text": [
      "First 5 characters of API key: sk-pr\n"
     ]
    }
   ],
   "source": [
    "from dotenv import load_dotenv\n",
    "from langchain_openai import ChatOpenAI\n",
    "import os\n",
    "\n",
    "load_dotenv(\n",
    "    override=True\n",
    ")\n",
    "\n",
    "api_key_preview = os.getenv(\"OPENAI_API_KEY\")[:5]\n",
    "print(f\"First 5 characters of API key: {api_key_preview}\")"
   ]
  },
  {
   "cell_type": "code",
   "execution_count": 58,
   "metadata": {},
   "outputs": [],
   "source": [
    "from langchain_core.prompts import ChatPromptTemplate\n",
    "prompt = ChatPromptTemplate.from_messages(\n",
    "    [\n",
    "        (\n",
    "            \"system\",\n",
    "            \"Você é um especialista em extração de entidades nomeadas com precisão excepcional. \"\n",
    "            \"Sua tarefa é identificar e extrair informações específicas do texto fornecido, seguindo estas diretrizes:\"\n",
    "            \"\\n\\n1. Extraia as informações exatamente como aparecem no texto, sem interpretações ou alterações.\"\n",
    "            \"\\n2. Se uma informação solicitada não estiver presente ou for ambígua, retorne null para esse campo.\"\n",
    "            \"\\n3. Mantenha-se estritamente dentro do escopo das entidades e atributos definidos no esquema fornecido.\"\n",
    "            \"\\n4. Preste atenção especial para manter a mesma ortografia, pontuação e formatação das informações extraídas.\"\n",
    "            \"\\n5. Não infira ou adicione informações que não estejam explicitamente presentes no texto.\"\n",
    "            \"\\n6. Se houver múltiplas menções da mesma entidade, extraia todas as ocorrências relevantes.\"\n",
    "            \"\\n7. Ignore informações irrelevantes ou fora do contexto das entidades solicitadas.\"\n",
    "            \"\\n\\nLembre-se: sua precisão e aderência ao texto original são cruciais para o sucesso desta tarefa.\",\n",
    "        ),\n",
    "        (\"human\", \"{text}\"),\n",
    "    ]\n",
    ")"
   ]
  },
  {
   "cell_type": "code",
   "execution_count": 59,
   "metadata": {},
   "outputs": [],
   "source": [
    "model_openai = ChatOpenAI(model=\"gpt-4o-mini\", temperature=0)\n",
    "\n",
    "# model_openai.invoke(\"Oi!\")"
   ]
  },
  {
   "cell_type": "code",
   "execution_count": 60,
   "metadata": {},
   "outputs": [],
   "source": [
    "model_openai = prompt | model_openai.with_structured_output(\n",
    "    MadeiraInfo, include_raw=False, method = \"function_calling\",\n",
    ").with_retry(\n",
    "    stop_after_attempt=10,  # Retry up to 10 times in case of failure\n",
    "    wait_exponential_jitter=True,  # Add randomness to the wait time between retries\n",
    ")"
   ]
  },
  {
   "cell_type": "code",
   "execution_count": 40,
   "metadata": {},
   "outputs": [],
   "source": [
    "# result = model_openai.invoke({\"text\": df_unlabeled.text.iloc[0]})\n",
    "# print(result)"
   ]
  },
  {
   "cell_type": "code",
   "execution_count": 61,
   "metadata": {},
   "outputs": [
    {
     "name": "stderr",
     "output_type": "stream",
     "text": [
      "100%|██████████| 1/1 [00:08<00:00,  8.44s/it]\n"
     ]
    }
   ],
   "source": [
    "from tqdm import tqdm\n",
    "batch_size = 100\n",
    "texts = df_unlabeled[\"text\"].tolist()\n",
    "text_batches = [texts[i : i + 100] for i in range(0, len(texts), 100)]\n",
    "\n",
    "# run the model\n",
    "results = []\n",
    "for batch in tqdm(text_batches):\n",
    "    try:\n",
    "        out = model_openai.batch(batch, config={\"max_concurrency\": 100})\n",
    "        results.extend(out)\n",
    "    except Exception as e:\n",
    "        print(e)\n",
    "        results.extend([None] * len(batch))"
   ]
  },
  {
   "cell_type": "code",
   "execution_count": 75,
   "metadata": {},
   "outputs": [
    {
     "data": {
      "text/plain": [
       "MadeiraInfo(especies=None, cortes=None, dimensoes=[DIMENSAO(medida='1,5x3')])"
      ]
     },
     "execution_count": 75,
     "metadata": {},
     "output_type": "execute_result"
    }
   ],
   "source": [
    "results[97]"
   ]
  },
  {
   "cell_type": "code",
   "execution_count": 63,
   "metadata": {},
   "outputs": [
    {
     "data": {
      "text/plain": [
       "list"
      ]
     },
     "execution_count": 63,
     "metadata": {},
     "output_type": "execute_result"
    }
   ],
   "source": [
    "type(results)"
   ]
  },
  {
   "cell_type": "code",
   "execution_count": 76,
   "metadata": {},
   "outputs": [],
   "source": [
    "from typing import Any\n",
    "\n",
    "def convert_pydantic_to_gliner_format(\n",
    "    text: str, madeira_info: MadeiraInfo  # Changed parameter name and type\n",
    ") -> List[dict[str, Any]]:\n",
    "    \"\"\"\n",
    "    Convert wood product data to GLiNER format.\n",
    "\n",
    "    Args:\n",
    "        text (str): Original text.\n",
    "        wood_info (MadeiraInfo): Pydantic model with wood product information.\n",
    "\n",
    "    Returns:\n",
    "        List[Dict[str, Any]]: List of entity dictionaries in GLiNER format.\n",
    "    \"\"\"\n",
    "    result = []\n",
    "    if madeira_info is None:\n",
    "        return []\n",
    "\n",
    "    # Handle all three entity types with their respective labels\n",
    "    entity_mapping = [\n",
    "        (madeira_info.especies, [\"nome\", \"nome_cientifico\"], [\"especie\", \"especie_cientifica\"]),\n",
    "        (madeira_info.cortes, [\"nome\"], [\"corte\"]),\n",
    "        (madeira_info.dimensoes, [\"medida\"], [\"dimensao\"])\n",
    "    ]\n",
    "\n",
    "    for entity_list, fields, labels in entity_mapping:\n",
    "        if entity_list is None:\n",
    "            continue\n",
    "            \n",
    "        for entity in entity_list:\n",
    "            for field, label in zip(fields, labels):\n",
    "                value = getattr(entity, field)\n",
    "                if value:\n",
    "                    # Find all matches in the text\n",
    "                    for match in re.finditer(re.escape(value), text, re.IGNORECASE):\n",
    "                        result.append({\n",
    "                            \"start\": match.start(),\n",
    "                            \"end\": match.end(),\n",
    "                            \"text\": match.group(),\n",
    "                            \"label\": label,\n",
    "                            \"score\": 1.0\n",
    "                        })\n",
    "\n",
    "    # Sort by start position\n",
    "    result.sort(key=lambda x: x[\"start\"])\n",
    "    return result"
   ]
  },
  {
   "cell_type": "code",
   "execution_count": 84,
   "metadata": {},
   "outputs": [],
   "source": [
    "df_lf_openai = pd.DataFrame(texts, columns=[\"text\"])\n",
    "df_lf_openai[\"weak_label\"] = results\n"
   ]
  },
  {
   "cell_type": "code",
   "execution_count": 85,
   "metadata": {},
   "outputs": [],
   "source": [
    "df_lf_openai.to_csv('100_lf_openai.csv', sep = ';', index=False)"
   ]
  },
  {
   "cell_type": "code",
   "execution_count": 86,
   "metadata": {},
   "outputs": [
    {
     "data": {
      "application/vnd.microsoft.datawrangler.viewer.v0+json": {
       "columns": [
        {
         "name": "index",
         "rawType": "int64",
         "type": "integer"
        },
        {
         "name": "text",
         "rawType": "object",
         "type": "string"
        },
        {
         "name": "weak_label",
         "rawType": "object",
         "type": "unknown"
        }
       ],
       "conversionMethod": "pd.DataFrame",
       "ref": "497c45e6-507a-4798-bb62-703cdb5753c4",
       "rows": [
        [
         "0",
         "angelim verm aproveitamento ripas",
         "[{'start': 0, 'end': 12, 'text': 'angelim verm', 'label': 'especie', 'score': 1.0}, {'start': 13, 'end': 33, 'text': 'aproveitamento ripas', 'label': 'corte', 'score': 1.0}]"
        ],
        [
         "1",
         "caibro mixto 4,5mt",
         "[{'start': 0, 'end': 12, 'text': 'caibro mixto', 'label': 'corte', 'score': 1.0}, {'start': 13, 'end': 18, 'text': '4,5mt', 'label': 'dimensao', 'score': 1.0}]"
        ],
        [
         "2",
         "caibro 5x3 angelin 5.50mt",
         "[{'start': 0, 'end': 6, 'text': 'caibro', 'label': 'corte', 'score': 1.0}, {'start': 7, 'end': 10, 'text': '5x3', 'label': 'dimensao', 'score': 1.0}, {'start': 11, 'end': 18, 'text': 'angelin', 'label': 'especie', 'score': 1.0}, {'start': 19, 'end': 25, 'text': '5.50mt', 'label': 'dimensao', 'score': 1.0}]"
        ],
        [
         "3",
         "tabua de pinnus aplainada 3m x 15cm",
         "[{'start': 9, 'end': 15, 'text': 'pinnus', 'label': 'especie', 'score': 1.0}, {'start': 16, 'end': 25, 'text': 'aplainada', 'label': 'corte', 'score': 1.0}, {'start': 26, 'end': 35, 'text': '3m x 15cm', 'label': 'dimensao', 'score': 1.0}]"
        ],
        [
         "4",
         "trave 2x10cm",
         "[{'start': 6, 'end': 12, 'text': '2x10cm', 'label': 'dimensao', 'score': 1.0}]"
        ],
        [
         "5",
         "madeirite 10mm 2,20x1,10mm resinado",
         "[{'start': 0, 'end': 9, 'text': 'madeirite', 'label': 'especie', 'score': 1.0}, {'start': 10, 'end': 14, 'text': '10mm', 'label': 'dimensao', 'score': 1.0}, {'start': 15, 'end': 26, 'text': '2,20x1,10mm', 'label': 'dimensao', 'score': 1.0}, {'start': 22, 'end': 26, 'text': '10mm', 'label': 'dimensao', 'score': 1.0}, {'start': 27, 'end': 35, 'text': 'resinado', 'label': 'corte', 'score': 1.0}]"
        ],
        [
         "6",
         "mad. esp. ang. vermelho industrializada de residuo",
         "[{'start': 10, 'end': 23, 'text': 'ang. vermelho', 'label': 'especie', 'score': 1.0}, {'start': 24, 'end': 39, 'text': 'industrializada', 'label': 'corte', 'score': 1.0}, {'start': 43, 'end': 50, 'text': 'residuo', 'label': 'dimensao', 'score': 1.0}]"
        ],
        [
         "7",
         "frechal 5x4 angelim 4.50mt",
         "[{'start': 0, 'end': 7, 'text': 'frechal', 'label': 'especie', 'score': 1.0}, {'start': 8, 'end': 11, 'text': '5x4', 'label': 'corte', 'score': 1.0}, {'start': 12, 'end': 19, 'text': 'angelim', 'label': 'especie', 'score': 1.0}, {'start': 20, 'end': 26, 'text': '4.50mt', 'label': 'dimensao', 'score': 1.0}]"
        ],
        [
         "8",
         "jogo cozinha em madeira",
         "[]"
        ],
        [
         "9",
         "conjunto de utensilios para cozi",
         "[]"
        ],
        [
         "10",
         "frechal 5x4 angelim 7.00mt",
         "[{'start': 0, 'end': 7, 'text': 'frechal', 'label': 'especie', 'score': 1.0}, {'start': 8, 'end': 11, 'text': '5x4', 'label': 'corte', 'score': 1.0}, {'start': 8, 'end': 11, 'text': '5x4', 'label': 'dimensao', 'score': 1.0}, {'start': 12, 'end': 19, 'text': 'angelim', 'label': 'especie', 'score': 1.0}, {'start': 20, 'end': 26, 'text': '7.00mt', 'label': 'corte', 'score': 1.0}, {'start': 20, 'end': 26, 'text': '7.00mt', 'label': 'dimensao', 'score': 1.0}]"
        ],
        [
         "11",
         "porta laminada jatoba 210 x 90 pormatex",
         "[{'start': 6, 'end': 14, 'text': 'laminada', 'label': 'corte', 'score': 1.0}, {'start': 22, 'end': 30, 'text': '210 x 90', 'label': 'dimensao', 'score': 1.0}]"
        ],
        [
         "12",
         "madeira serrada viga de macaranduba",
         "[{'start': 8, 'end': 15, 'text': 'serrada', 'label': 'corte', 'score': 1.0}, {'start': 24, 'end': 35, 'text': 'macaranduba', 'label': 'especie', 'score': 1.0}]"
        ],
        [
         "13",
         "ripa",
         "[{'start': 0, 'end': 4, 'text': 'ripa', 'label': 'corte', 'score': 1.0}]"
        ],
        [
         "14",
         "caibro massa 2,5mt",
         "[{'start': 0, 'end': 6, 'text': 'caibro', 'label': 'corte', 'score': 1.0}, {'start': 13, 'end': 18, 'text': '2,5mt', 'label': 'dimensao', 'score': 1.0}]"
        ],
        [
         "15",
         "guajara bolacha mad ind de residuo (short-sarrafo)",
         "[{'start': 0, 'end': 7, 'text': 'guajara', 'label': 'especie', 'score': 1.0}, {'start': 36, 'end': 49, 'text': 'short-sarrafo', 'label': 'corte', 'score': 1.0}]"
        ],
        [
         "16",
         "sarrafo 7x2cm pinus",
         "[{'start': 0, 'end': 7, 'text': 'sarrafo', 'label': 'corte', 'score': 1.0}, {'start': 8, 'end': 13, 'text': '7x2cm', 'label': 'dimensao', 'score': 1.0}, {'start': 14, 'end': 19, 'text': 'pinus', 'label': 'especie', 'score': 1.0}]"
        ],
        [
         "17",
         "muiracatiara serrada",
         "[{'start': 0, 'end': 12, 'text': 'muiracatiara', 'label': 'especie', 'score': 1.0}, {'start': 13, 'end': 20, 'text': 'serrada', 'label': 'corte', 'score': 1.0}]"
        ],
        [
         "18",
         "macaranduba madeira serrada ripa",
         "[{'start': 0, 'end': 11, 'text': 'macaranduba', 'label': 'especie', 'score': 1.0}, {'start': 20, 'end': 27, 'text': 'serrada', 'label': 'corte', 'score': 1.0}, {'start': 28, 'end': 32, 'text': 'ripa', 'label': 'dimensao', 'score': 1.0}]"
        ],
        [
         "19",
         "caibro macaranduba",
         "[{'start': 0, 'end': 6, 'text': 'caibro', 'label': 'corte', 'score': 1.0}, {'start': 7, 'end': 18, 'text': 'macaranduba', 'label': 'especie', 'score': 1.0}]"
        ],
        [
         "20",
         "linha 5x20cm mista",
         "[{'start': 6, 'end': 12, 'text': '5x20cm', 'label': 'dimensao', 'score': 1.0}]"
        ],
        [
         "21",
         "caibro 3x5 4.50mt de massaranduba",
         "[{'start': 0, 'end': 6, 'text': 'caibro', 'label': 'corte', 'score': 1.0}, {'start': 7, 'end': 10, 'text': '3x5', 'label': 'dimensao', 'score': 1.0}, {'start': 11, 'end': 17, 'text': '4.50mt', 'label': 'dimensao', 'score': 1.0}, {'start': 21, 'end': 33, 'text': 'massaranduba', 'label': 'especie', 'score': 1.0}]"
        ],
        [
         "22",
         "palitos p/ dentes aurea gde",
         "[{'start': 0, 'end': 17, 'text': 'palitos p/ dentes', 'label': 'corte', 'score': 1.0}, {'start': 18, 'end': 23, 'text': 'aurea', 'label': 'especie', 'score': 1.0}, {'start': 24, 'end': 27, 'text': 'gde', 'label': 'dimensao', 'score': 1.0}]"
        ],
        [
         "23",
         "ripa mista 1,3x5x1m",
         "[{'start': 0, 'end': 10, 'text': 'ripa mista', 'label': 'corte', 'score': 1.0}, {'start': 11, 'end': 19, 'text': '1,3x5x1m', 'label': 'dimensao', 'score': 1.0}]"
        ],
        [
         "24",
         "linha 5x20cm massaranduba",
         "[{'start': 0, 'end': 5, 'text': 'linha', 'label': 'corte', 'score': 1.0}, {'start': 6, 'end': 12, 'text': '5x20cm', 'label': 'dimensao', 'score': 1.0}, {'start': 13, 'end': 25, 'text': 'massaranduba', 'label': 'especie', 'score': 1.0}]"
        ],
        [
         "25",
         "massaranduba viga",
         "[{'start': 0, 'end': 12, 'text': 'massaranduba', 'label': 'especie', 'score': 1.0}, {'start': 13, 'end': 17, 'text': 'viga', 'label': 'corte', 'score': 1.0}]"
        ],
        [
         "26",
         "espeto p/churrasco bambu fiat lux 10x100",
         "[{'start': 0, 'end': 6, 'text': 'espeto', 'label': 'corte', 'score': 1.0}, {'start': 19, 'end': 24, 'text': 'bambu', 'label': 'especie', 'score': 1.0}, {'start': 34, 'end': 40, 'text': '10x100', 'label': 'dimensao', 'score': 1.0}]"
        ],
        [
         "27",
         "caibros 5x3.5",
         "[{'start': 8, 'end': 13, 'text': '5x3.5', 'label': 'dimensao', 'score': 1.0}]"
        ],
        [
         "28",
         "linha mix 3x6 5,5mt",
         "[{'start': 10, 'end': 13, 'text': '3x6', 'label': 'dimensao', 'score': 1.0}, {'start': 14, 'end': 19, 'text': '5,5mt', 'label': 'dimensao', 'score': 1.0}]"
        ],
        [
         "29",
         "linhas de 5,5 metros de 14c",
         "[{'start': 10, 'end': 20, 'text': '5,5 metros', 'label': 'dimensao', 'score': 1.0}, {'start': 24, 'end': 27, 'text': '14c', 'label': 'corte', 'score': 1.0}]"
        ],
        [
         "30",
         "linhas de 3,5 metros de 14cm",
         "[{'start': 10, 'end': 20, 'text': '3,5 metros', 'label': 'dimensao', 'score': 1.0}, {'start': 24, 'end': 28, 'text': '14cm', 'label': 'dimensao', 'score': 1.0}]"
        ],
        [
         "31",
         "caibros",
         "[{'start': 0, 'end': 7, 'text': 'caibros', 'label': 'corte', 'score': 1.0}]"
        ],
        [
         "32",
         "linha 5x12cm mista",
         "[{'start': 6, 'end': 12, 'text': '5x12cm', 'label': 'dimensao', 'score': 1.0}, {'start': 13, 'end': 18, 'text': 'mista', 'label': 'corte', 'score': 1.0}]"
        ],
        [
         "33",
         "pv-kit colher / espatula em made",
         "[{'start': 7, 'end': 13, 'text': 'colher', 'label': 'corte', 'score': 1.0}, {'start': 16, 'end': 24, 'text': 'espatula', 'label': 'corte', 'score': 1.0}]"
        ],
        [
         "34",
         "tabua de 30x2.2cm",
         "[{'start': 9, 'end': 17, 'text': '30x2.2cm', 'label': 'dimensao', 'score': 1.0}]"
        ],
        [
         "35",
         "linha mass 5 x 24 - 6,50",
         "[{'start': 0, 'end': 10, 'text': 'linha mass', 'label': 'corte', 'score': 1.0}, {'start': 11, 'end': 17, 'text': '5 x 24', 'label': 'dimensao', 'score': 1.0}]"
        ],
        [
         "36",
         "madeirite plastificado 1,10 x 2,20 12mm",
         "[{'start': 0, 'end': 22, 'text': 'madeirite plastificado', 'label': 'especie', 'score': 1.0}, {'start': 23, 'end': 34, 'text': '1,10 x 2,20', 'label': 'dimensao', 'score': 1.0}, {'start': 35, 'end': 39, 'text': '12mm', 'label': 'corte', 'score': 1.0}]"
        ],
        [
         "37",
         "madeira angelim vermelho serrada em vigota",
         "[{'start': 8, 'end': 24, 'text': 'angelim vermelho', 'label': 'especie', 'score': 1.0}, {'start': 25, 'end': 32, 'text': 'serrada', 'label': 'corte', 'score': 1.0}, {'start': 33, 'end': 42, 'text': 'em vigota', 'label': 'dimensao', 'score': 1.0}]"
        ],
        [
         "38",
         "linha mass 5 x 24 - 3,00",
         "[{'start': 0, 'end': 10, 'text': 'linha mass', 'label': 'corte', 'score': 1.0}, {'start': 11, 'end': 17, 'text': '5 x 24', 'label': 'dimensao', 'score': 1.0}]"
        ],
        [
         "39",
         "porta jatoba diag 0,90 x 2,10",
         "[{'start': 13, 'end': 17, 'text': 'diag', 'label': 'corte', 'score': 1.0}, {'start': 18, 'end': 29, 'text': '0,90 x 2,10', 'label': 'dimensao', 'score': 1.0}]"
        ],
        [
         "40",
         "jatoba prancha - m",
         "[{'start': 7, 'end': 14, 'text': 'prancha', 'label': 'corte', 'score': 1.0}, {'start': 17, 'end': 18, 'text': 'm', 'label': 'dimensao', 'score': 1.0}]"
        ],
        [
         "41",
         "linha 5x24 angelim 4.50mt",
         "[{'start': 0, 'end': 5, 'text': 'linha', 'label': 'corte', 'score': 1.0}, {'start': 6, 'end': 10, 'text': '5x24', 'label': 'dimensao', 'score': 1.0}, {'start': 11, 'end': 18, 'text': 'angelim', 'label': 'especie', 'score': 1.0}, {'start': 19, 'end': 25, 'text': '4.50mt', 'label': 'dimensao', 'score': 1.0}]"
        ],
        [
         "42",
         "linha mix 3x4 4,5mt",
         "[{'start': 10, 'end': 13, 'text': '3x4', 'label': 'dimensao', 'score': 1.0}, {'start': 14, 'end': 19, 'text': '4,5mt', 'label': 'dimensao', 'score': 1.0}]"
        ],
        [
         "43",
         "jatoba serd pranchas",
         "[{'start': 7, 'end': 11, 'text': 'serd', 'label': 'corte', 'score': 1.0}, {'start': 12, 'end': 20, 'text': 'pranchas', 'label': 'dimensao', 'score': 1.0}]"
        ],
        [
         "44",
         "macaranduba serr. ind.res.ripa mani",
         "[{'start': 0, 'end': 11, 'text': 'macaranduba', 'label': 'especie', 'score': 1.0}, {'start': 12, 'end': 30, 'text': 'serr. ind.res.ripa', 'label': 'corte', 'score': 1.0}, {'start': 31, 'end': 35, 'text': 'mani', 'label': 'dimensao', 'score': 1.0}]"
        ],
        [
         "45",
         "tabua 30x3,0cm mista",
         "[{'start': 6, 'end': 14, 'text': '30x3,0cm', 'label': 'dimensao', 'score': 1.0}, {'start': 15, 'end': 20, 'text': 'mista', 'label': 'corte', 'score': 1.0}]"
        ],
        [
         "46",
         "linhas de 7,5 meros de 12 cm",
         "[{'start': 10, 'end': 19, 'text': '7,5 meros', 'label': 'dimensao', 'score': 1.0}, {'start': 23, 'end': 28, 'text': '12 cm', 'label': 'dimensao', 'score': 1.0}]"
        ],
        [
         "47",
         "linha 5 x 11.5cm 3,50mt ang.",
         "[{'start': 0, 'end': 16, 'text': 'linha 5 x 11.5cm', 'label': 'dimensao', 'score': 1.0}, {'start': 17, 'end': 28, 'text': '3,50mt ang.', 'label': 'dimensao', 'score': 1.0}]"
        ],
        [
         "48",
         "linha 5x14cm mista",
         "[{'start': 6, 'end': 12, 'text': '5x14cm', 'label': 'dimensao', 'score': 1.0}]"
        ],
        [
         "49",
         "ripa angelim 5x1.0cm",
         "[{'start': 0, 'end': 4, 'text': 'ripa', 'label': 'corte', 'score': 1.0}, {'start': 5, 'end': 12, 'text': 'angelim', 'label': 'especie', 'score': 1.0}, {'start': 13, 'end': 20, 'text': '5x1.0cm', 'label': 'dimensao', 'score': 1.0}]"
        ]
       ],
       "shape": {
        "columns": 2,
        "rows": 100
       }
      },
      "text/html": [
       "<div>\n",
       "<style scoped>\n",
       "    .dataframe tbody tr th:only-of-type {\n",
       "        vertical-align: middle;\n",
       "    }\n",
       "\n",
       "    .dataframe tbody tr th {\n",
       "        vertical-align: top;\n",
       "    }\n",
       "\n",
       "    .dataframe thead th {\n",
       "        text-align: right;\n",
       "    }\n",
       "</style>\n",
       "<table border=\"1\" class=\"dataframe\">\n",
       "  <thead>\n",
       "    <tr style=\"text-align: right;\">\n",
       "      <th></th>\n",
       "      <th>text</th>\n",
       "      <th>weak_label</th>\n",
       "    </tr>\n",
       "  </thead>\n",
       "  <tbody>\n",
       "    <tr>\n",
       "      <th>0</th>\n",
       "      <td>angelim verm aproveitamento ripas</td>\n",
       "      <td>[{'start': 0, 'end': 12, 'text': 'angelim verm', 'label': 'especie', 'score': 1.0}, {'start': 13...</td>\n",
       "    </tr>\n",
       "    <tr>\n",
       "      <th>1</th>\n",
       "      <td>caibro mixto 4,5mt</td>\n",
       "      <td>[{'start': 0, 'end': 12, 'text': 'caibro mixto', 'label': 'corte', 'score': 1.0}, {'start': 13, ...</td>\n",
       "    </tr>\n",
       "    <tr>\n",
       "      <th>2</th>\n",
       "      <td>caibro 5x3 angelin 5.50mt</td>\n",
       "      <td>[{'start': 0, 'end': 6, 'text': 'caibro', 'label': 'corte', 'score': 1.0}, {'start': 7, 'end': 1...</td>\n",
       "    </tr>\n",
       "    <tr>\n",
       "      <th>3</th>\n",
       "      <td>tabua de pinnus aplainada 3m x 15cm</td>\n",
       "      <td>[{'start': 9, 'end': 15, 'text': 'pinnus', 'label': 'especie', 'score': 1.0}, {'start': 16, 'end...</td>\n",
       "    </tr>\n",
       "    <tr>\n",
       "      <th>4</th>\n",
       "      <td>trave 2x10cm</td>\n",
       "      <td>[{'start': 6, 'end': 12, 'text': '2x10cm', 'label': 'dimensao', 'score': 1.0}]</td>\n",
       "    </tr>\n",
       "    <tr>\n",
       "      <th>5</th>\n",
       "      <td>madeirite 10mm 2,20x1,10mm resinado</td>\n",
       "      <td>[{'start': 0, 'end': 9, 'text': 'madeirite', 'label': 'especie', 'score': 1.0}, {'start': 10, 'e...</td>\n",
       "    </tr>\n",
       "    <tr>\n",
       "      <th>6</th>\n",
       "      <td>mad. esp. ang. vermelho industrializada de residuo</td>\n",
       "      <td>[{'start': 10, 'end': 23, 'text': 'ang. vermelho', 'label': 'especie', 'score': 1.0}, {'start': ...</td>\n",
       "    </tr>\n",
       "    <tr>\n",
       "      <th>7</th>\n",
       "      <td>frechal 5x4 angelim 4.50mt</td>\n",
       "      <td>[{'start': 0, 'end': 7, 'text': 'frechal', 'label': 'especie', 'score': 1.0}, {'start': 8, 'end'...</td>\n",
       "    </tr>\n",
       "    <tr>\n",
       "      <th>8</th>\n",
       "      <td>jogo cozinha em madeira</td>\n",
       "      <td>[]</td>\n",
       "    </tr>\n",
       "    <tr>\n",
       "      <th>9</th>\n",
       "      <td>conjunto de utensilios para cozi</td>\n",
       "      <td>[]</td>\n",
       "    </tr>\n",
       "    <tr>\n",
       "      <th>10</th>\n",
       "      <td>frechal 5x4 angelim 7.00mt</td>\n",
       "      <td>[{'start': 0, 'end': 7, 'text': 'frechal', 'label': 'especie', 'score': 1.0}, {'start': 8, 'end'...</td>\n",
       "    </tr>\n",
       "    <tr>\n",
       "      <th>11</th>\n",
       "      <td>porta laminada jatoba 210 x 90 pormatex</td>\n",
       "      <td>[{'start': 6, 'end': 14, 'text': 'laminada', 'label': 'corte', 'score': 1.0}, {'start': 22, 'end...</td>\n",
       "    </tr>\n",
       "    <tr>\n",
       "      <th>12</th>\n",
       "      <td>madeira serrada viga de macaranduba</td>\n",
       "      <td>[{'start': 8, 'end': 15, 'text': 'serrada', 'label': 'corte', 'score': 1.0}, {'start': 24, 'end'...</td>\n",
       "    </tr>\n",
       "    <tr>\n",
       "      <th>13</th>\n",
       "      <td>ripa</td>\n",
       "      <td>[{'start': 0, 'end': 4, 'text': 'ripa', 'label': 'corte', 'score': 1.0}]</td>\n",
       "    </tr>\n",
       "    <tr>\n",
       "      <th>14</th>\n",
       "      <td>caibro massa 2,5mt</td>\n",
       "      <td>[{'start': 0, 'end': 6, 'text': 'caibro', 'label': 'corte', 'score': 1.0}, {'start': 13, 'end': ...</td>\n",
       "    </tr>\n",
       "    <tr>\n",
       "      <th>15</th>\n",
       "      <td>guajara bolacha mad ind de residuo (short-sarrafo)</td>\n",
       "      <td>[{'start': 0, 'end': 7, 'text': 'guajara', 'label': 'especie', 'score': 1.0}, {'start': 36, 'end...</td>\n",
       "    </tr>\n",
       "    <tr>\n",
       "      <th>16</th>\n",
       "      <td>sarrafo 7x2cm pinus</td>\n",
       "      <td>[{'start': 0, 'end': 7, 'text': 'sarrafo', 'label': 'corte', 'score': 1.0}, {'start': 8, 'end': ...</td>\n",
       "    </tr>\n",
       "    <tr>\n",
       "      <th>17</th>\n",
       "      <td>muiracatiara serrada</td>\n",
       "      <td>[{'start': 0, 'end': 12, 'text': 'muiracatiara', 'label': 'especie', 'score': 1.0}, {'start': 13...</td>\n",
       "    </tr>\n",
       "    <tr>\n",
       "      <th>18</th>\n",
       "      <td>macaranduba madeira serrada ripa</td>\n",
       "      <td>[{'start': 0, 'end': 11, 'text': 'macaranduba', 'label': 'especie', 'score': 1.0}, {'start': 20,...</td>\n",
       "    </tr>\n",
       "    <tr>\n",
       "      <th>19</th>\n",
       "      <td>caibro macaranduba</td>\n",
       "      <td>[{'start': 0, 'end': 6, 'text': 'caibro', 'label': 'corte', 'score': 1.0}, {'start': 7, 'end': 1...</td>\n",
       "    </tr>\n",
       "    <tr>\n",
       "      <th>20</th>\n",
       "      <td>linha 5x20cm mista</td>\n",
       "      <td>[{'start': 6, 'end': 12, 'text': '5x20cm', 'label': 'dimensao', 'score': 1.0}]</td>\n",
       "    </tr>\n",
       "    <tr>\n",
       "      <th>21</th>\n",
       "      <td>caibro 3x5 4.50mt de massaranduba</td>\n",
       "      <td>[{'start': 0, 'end': 6, 'text': 'caibro', 'label': 'corte', 'score': 1.0}, {'start': 7, 'end': 1...</td>\n",
       "    </tr>\n",
       "    <tr>\n",
       "      <th>22</th>\n",
       "      <td>palitos p/ dentes aurea gde</td>\n",
       "      <td>[{'start': 0, 'end': 17, 'text': 'palitos p/ dentes', 'label': 'corte', 'score': 1.0}, {'start':...</td>\n",
       "    </tr>\n",
       "    <tr>\n",
       "      <th>23</th>\n",
       "      <td>ripa mista 1,3x5x1m</td>\n",
       "      <td>[{'start': 0, 'end': 10, 'text': 'ripa mista', 'label': 'corte', 'score': 1.0}, {'start': 11, 'e...</td>\n",
       "    </tr>\n",
       "    <tr>\n",
       "      <th>24</th>\n",
       "      <td>linha 5x20cm massaranduba</td>\n",
       "      <td>[{'start': 0, 'end': 5, 'text': 'linha', 'label': 'corte', 'score': 1.0}, {'start': 6, 'end': 12...</td>\n",
       "    </tr>\n",
       "    <tr>\n",
       "      <th>25</th>\n",
       "      <td>massaranduba viga</td>\n",
       "      <td>[{'start': 0, 'end': 12, 'text': 'massaranduba', 'label': 'especie', 'score': 1.0}, {'start': 13...</td>\n",
       "    </tr>\n",
       "    <tr>\n",
       "      <th>26</th>\n",
       "      <td>espeto p/churrasco bambu fiat lux 10x100</td>\n",
       "      <td>[{'start': 0, 'end': 6, 'text': 'espeto', 'label': 'corte', 'score': 1.0}, {'start': 19, 'end': ...</td>\n",
       "    </tr>\n",
       "    <tr>\n",
       "      <th>27</th>\n",
       "      <td>caibros 5x3.5</td>\n",
       "      <td>[{'start': 8, 'end': 13, 'text': '5x3.5', 'label': 'dimensao', 'score': 1.0}]</td>\n",
       "    </tr>\n",
       "    <tr>\n",
       "      <th>28</th>\n",
       "      <td>linha mix 3x6 5,5mt</td>\n",
       "      <td>[{'start': 10, 'end': 13, 'text': '3x6', 'label': 'dimensao', 'score': 1.0}, {'start': 14, 'end'...</td>\n",
       "    </tr>\n",
       "    <tr>\n",
       "      <th>29</th>\n",
       "      <td>linhas de 5,5 metros de 14c</td>\n",
       "      <td>[{'start': 10, 'end': 20, 'text': '5,5 metros', 'label': 'dimensao', 'score': 1.0}, {'start': 24...</td>\n",
       "    </tr>\n",
       "    <tr>\n",
       "      <th>30</th>\n",
       "      <td>linhas de 3,5 metros de 14cm</td>\n",
       "      <td>[{'start': 10, 'end': 20, 'text': '3,5 metros', 'label': 'dimensao', 'score': 1.0}, {'start': 24...</td>\n",
       "    </tr>\n",
       "    <tr>\n",
       "      <th>31</th>\n",
       "      <td>caibros</td>\n",
       "      <td>[{'start': 0, 'end': 7, 'text': 'caibros', 'label': 'corte', 'score': 1.0}]</td>\n",
       "    </tr>\n",
       "    <tr>\n",
       "      <th>32</th>\n",
       "      <td>linha 5x12cm mista</td>\n",
       "      <td>[{'start': 6, 'end': 12, 'text': '5x12cm', 'label': 'dimensao', 'score': 1.0}, {'start': 13, 'en...</td>\n",
       "    </tr>\n",
       "    <tr>\n",
       "      <th>33</th>\n",
       "      <td>pv-kit colher / espatula em made</td>\n",
       "      <td>[{'start': 7, 'end': 13, 'text': 'colher', 'label': 'corte', 'score': 1.0}, {'start': 16, 'end':...</td>\n",
       "    </tr>\n",
       "    <tr>\n",
       "      <th>34</th>\n",
       "      <td>tabua de 30x2.2cm</td>\n",
       "      <td>[{'start': 9, 'end': 17, 'text': '30x2.2cm', 'label': 'dimensao', 'score': 1.0}]</td>\n",
       "    </tr>\n",
       "    <tr>\n",
       "      <th>35</th>\n",
       "      <td>linha mass 5 x 24 - 6,50</td>\n",
       "      <td>[{'start': 0, 'end': 10, 'text': 'linha mass', 'label': 'corte', 'score': 1.0}, {'start': 11, 'e...</td>\n",
       "    </tr>\n",
       "    <tr>\n",
       "      <th>36</th>\n",
       "      <td>madeirite plastificado 1,10 x 2,20 12mm</td>\n",
       "      <td>[{'start': 0, 'end': 22, 'text': 'madeirite plastificado', 'label': 'especie', 'score': 1.0}, {'...</td>\n",
       "    </tr>\n",
       "    <tr>\n",
       "      <th>37</th>\n",
       "      <td>madeira angelim vermelho serrada em vigota</td>\n",
       "      <td>[{'start': 8, 'end': 24, 'text': 'angelim vermelho', 'label': 'especie', 'score': 1.0}, {'start'...</td>\n",
       "    </tr>\n",
       "    <tr>\n",
       "      <th>38</th>\n",
       "      <td>linha mass 5 x 24 - 3,00</td>\n",
       "      <td>[{'start': 0, 'end': 10, 'text': 'linha mass', 'label': 'corte', 'score': 1.0}, {'start': 11, 'e...</td>\n",
       "    </tr>\n",
       "    <tr>\n",
       "      <th>39</th>\n",
       "      <td>porta jatoba diag 0,90 x 2,10</td>\n",
       "      <td>[{'start': 13, 'end': 17, 'text': 'diag', 'label': 'corte', 'score': 1.0}, {'start': 18, 'end': ...</td>\n",
       "    </tr>\n",
       "    <tr>\n",
       "      <th>40</th>\n",
       "      <td>jatoba prancha - m</td>\n",
       "      <td>[{'start': 7, 'end': 14, 'text': 'prancha', 'label': 'corte', 'score': 1.0}, {'start': 17, 'end'...</td>\n",
       "    </tr>\n",
       "    <tr>\n",
       "      <th>41</th>\n",
       "      <td>linha 5x24 angelim 4.50mt</td>\n",
       "      <td>[{'start': 0, 'end': 5, 'text': 'linha', 'label': 'corte', 'score': 1.0}, {'start': 6, 'end': 10...</td>\n",
       "    </tr>\n",
       "    <tr>\n",
       "      <th>42</th>\n",
       "      <td>linha mix 3x4 4,5mt</td>\n",
       "      <td>[{'start': 10, 'end': 13, 'text': '3x4', 'label': 'dimensao', 'score': 1.0}, {'start': 14, 'end'...</td>\n",
       "    </tr>\n",
       "    <tr>\n",
       "      <th>43</th>\n",
       "      <td>jatoba serd pranchas</td>\n",
       "      <td>[{'start': 7, 'end': 11, 'text': 'serd', 'label': 'corte', 'score': 1.0}, {'start': 12, 'end': 2...</td>\n",
       "    </tr>\n",
       "    <tr>\n",
       "      <th>44</th>\n",
       "      <td>macaranduba serr. ind.res.ripa mani</td>\n",
       "      <td>[{'start': 0, 'end': 11, 'text': 'macaranduba', 'label': 'especie', 'score': 1.0}, {'start': 12,...</td>\n",
       "    </tr>\n",
       "    <tr>\n",
       "      <th>45</th>\n",
       "      <td>tabua 30x3,0cm mista</td>\n",
       "      <td>[{'start': 6, 'end': 14, 'text': '30x3,0cm', 'label': 'dimensao', 'score': 1.0}, {'start': 15, '...</td>\n",
       "    </tr>\n",
       "    <tr>\n",
       "      <th>46</th>\n",
       "      <td>linhas de 7,5 meros de 12 cm</td>\n",
       "      <td>[{'start': 10, 'end': 19, 'text': '7,5 meros', 'label': 'dimensao', 'score': 1.0}, {'start': 23,...</td>\n",
       "    </tr>\n",
       "    <tr>\n",
       "      <th>47</th>\n",
       "      <td>linha 5 x 11.5cm 3,50mt ang.</td>\n",
       "      <td>[{'start': 0, 'end': 16, 'text': 'linha 5 x 11.5cm', 'label': 'dimensao', 'score': 1.0}, {'start...</td>\n",
       "    </tr>\n",
       "    <tr>\n",
       "      <th>48</th>\n",
       "      <td>linha 5x14cm mista</td>\n",
       "      <td>[{'start': 6, 'end': 12, 'text': '5x14cm', 'label': 'dimensao', 'score': 1.0}]</td>\n",
       "    </tr>\n",
       "    <tr>\n",
       "      <th>49</th>\n",
       "      <td>ripa angelim 5x1.0cm</td>\n",
       "      <td>[{'start': 0, 'end': 4, 'text': 'ripa', 'label': 'corte', 'score': 1.0}, {'start': 5, 'end': 12,...</td>\n",
       "    </tr>\n",
       "    <tr>\n",
       "      <th>50</th>\n",
       "      <td>jogo 3 colheres em madeira</td>\n",
       "      <td>[{'start': 5, 'end': 6, 'text': '3', 'label': 'dimensao', 'score': 1.0}, {'start': 7, 'end': 13,...</td>\n",
       "    </tr>\n",
       "    <tr>\n",
       "      <th>51</th>\n",
       "      <td>kit pallet one wey eliz 1200x1100mm - 0000000154321</td>\n",
       "      <td>[{'start': 24, 'end': 35, 'text': '1200x1100mm', 'label': 'dimensao', 'score': 1.0}]</td>\n",
       "    </tr>\n",
       "    <tr>\n",
       "      <th>52</th>\n",
       "      <td>tabua 15x2,0cm pinus</td>\n",
       "      <td>[{'start': 0, 'end': 5, 'text': 'tabua', 'label': 'corte', 'score': 1.0}, {'start': 6, 'end': 14...</td>\n",
       "    </tr>\n",
       "    <tr>\n",
       "      <th>53</th>\n",
       "      <td>madeira beneficiada ( portais com alizares  ) da especie jatoba</td>\n",
       "      <td>[{'start': 8, 'end': 19, 'text': 'beneficiada', 'label': 'corte', 'score': 1.0}, {'start': 22, '...</td>\n",
       "    </tr>\n",
       "    <tr>\n",
       "      <th>54</th>\n",
       "      <td>ipe mad ind de residuo caibrinho</td>\n",
       "      <td>[{'start': 0, 'end': 11, 'text': 'ipe mad ind', 'label': 'especie', 'score': 1.0}, {'start': 15,...</td>\n",
       "    </tr>\n",
       "    <tr>\n",
       "      <th>55</th>\n",
       "      <td>macaranduba serr. em sarrafo</td>\n",
       "      <td>[{'start': 0, 'end': 11, 'text': 'macaranduba', 'label': 'especie', 'score': 1.0}, {'start': 12,...</td>\n",
       "    </tr>\n",
       "    <tr>\n",
       "      <th>56</th>\n",
       "      <td>linha 5x11 angelim 5.00mt</td>\n",
       "      <td>[{'start': 0, 'end': 5, 'text': 'linha', 'label': 'corte', 'score': 1.0}, {'start': 6, 'end': 10...</td>\n",
       "    </tr>\n",
       "    <tr>\n",
       "      <th>57</th>\n",
       "      <td>timborana tabua - m</td>\n",
       "      <td>[{'start': 0, 'end': 9, 'text': 'timborana', 'label': 'especie', 'score': 1.0}, {'start': 2, 'en...</td>\n",
       "    </tr>\n",
       "    <tr>\n",
       "      <th>58</th>\n",
       "      <td>tabua 30x2,0cm pinus</td>\n",
       "      <td>[{'start': 6, 'end': 14, 'text': '30x2,0cm', 'label': 'dimensao', 'score': 1.0}, {'start': 15, '...</td>\n",
       "    </tr>\n",
       "    <tr>\n",
       "      <th>59</th>\n",
       "      <td>timburana serrado</td>\n",
       "      <td>[{'start': 0, 'end': 9, 'text': 'timburana', 'label': 'especie', 'score': 1.0}, {'start': 10, 'e...</td>\n",
       "    </tr>\n",
       "    <tr>\n",
       "      <th>60</th>\n",
       "      <td>pv-jogo cozinha em madeira</td>\n",
       "      <td>[]</td>\n",
       "    </tr>\n",
       "    <tr>\n",
       "      <th>61</th>\n",
       "      <td>madeira serrada tipo sarrafo da especie macaranduba</td>\n",
       "      <td>[{'start': 8, 'end': 15, 'text': 'serrada', 'label': 'corte', 'score': 1.0}, {'start': 21, 'end'...</td>\n",
       "    </tr>\n",
       "    <tr>\n",
       "      <th>62</th>\n",
       "      <td>folha de louro ervas7tempero</td>\n",
       "      <td>[{'start': 0, 'end': 14, 'text': 'folha de louro', 'label': 'especie', 'score': 1.0}]</td>\n",
       "    </tr>\n",
       "    <tr>\n",
       "      <th>63</th>\n",
       "      <td>angelim vermelho serrado vigas</td>\n",
       "      <td>[{'start': 0, 'end': 16, 'text': 'angelim vermelho', 'label': 'especie', 'score': 1.0}, {'start'...</td>\n",
       "    </tr>\n",
       "    <tr>\n",
       "      <th>64</th>\n",
       "      <td>ripas (1.2x5cm) madeira massaranduba</td>\n",
       "      <td>[{'start': 0, 'end': 5, 'text': 'ripas', 'label': 'corte', 'score': 1.0}, {'start': 7, 'end': 14...</td>\n",
       "    </tr>\n",
       "    <tr>\n",
       "      <th>65</th>\n",
       "      <td>caibro 3x5cm misto</td>\n",
       "      <td>[{'start': 7, 'end': 12, 'text': '3x5cm', 'label': 'dimensao', 'score': 1.0}, {'start': 13, 'end...</td>\n",
       "    </tr>\n",
       "    <tr>\n",
       "      <th>66</th>\n",
       "      <td>ripas</td>\n",
       "      <td>[{'start': 0, 'end': 5, 'text': 'ripas', 'label': 'corte', 'score': 1.0}]</td>\n",
       "    </tr>\n",
       "    <tr>\n",
       "      <th>67</th>\n",
       "      <td>palito cory meio amargo</td>\n",
       "      <td>[{'start': 0, 'end': 11, 'text': 'palito cory', 'label': 'especie', 'score': 1.0}, {'start': 12,...</td>\n",
       "    </tr>\n",
       "    <tr>\n",
       "      <th>68</th>\n",
       "      <td>pv-rolo de massas em madeira</td>\n",
       "      <td>[{'start': 0, 'end': 17, 'text': 'pv-rolo de massas', 'label': 'corte', 'score': 1.0}]</td>\n",
       "    </tr>\n",
       "    <tr>\n",
       "      <th>69</th>\n",
       "      <td>pv-conjunto de utensilios para c</td>\n",
       "      <td>[]</td>\n",
       "    </tr>\n",
       "    <tr>\n",
       "      <th>70</th>\n",
       "      <td>barrote 5x5cm massar</td>\n",
       "      <td>[{'start': 0, 'end': 7, 'text': 'barrote', 'label': 'corte', 'score': 1.0}, {'start': 8, 'end': ...</td>\n",
       "    </tr>\n",
       "    <tr>\n",
       "      <th>71</th>\n",
       "      <td>linha 5x09 angelim 3.50mt</td>\n",
       "      <td>[{'start': 0, 'end': 5, 'text': 'linha', 'label': 'corte', 'score': 1.0}, {'start': 6, 'end': 10...</td>\n",
       "    </tr>\n",
       "    <tr>\n",
       "      <th>72</th>\n",
       "      <td>linha 5x12cm massaranduba</td>\n",
       "      <td>[{'start': 0, 'end': 5, 'text': 'linha', 'label': 'corte', 'score': 1.0}, {'start': 6, 'end': 12...</td>\n",
       "    </tr>\n",
       "    <tr>\n",
       "      <th>73</th>\n",
       "      <td>ripa massaranduba 3,0mt madeira</td>\n",
       "      <td>[{'start': 0, 'end': 4, 'text': 'ripa', 'label': 'corte', 'score': 1.0}, {'start': 5, 'end': 17,...</td>\n",
       "    </tr>\n",
       "    <tr>\n",
       "      <th>74</th>\n",
       "      <td>tabua de pinnus marceneiro 3m x 30 x 2.5</td>\n",
       "      <td>[{'start': 0, 'end': 5, 'text': 'tabua', 'label': 'corte', 'score': 1.0}, {'start': 9, 'end': 15...</td>\n",
       "    </tr>\n",
       "    <tr>\n",
       "      <th>75</th>\n",
       "      <td>piquia tabua - m</td>\n",
       "      <td>[{'start': 0, 'end': 6, 'text': 'piquia', 'label': 'especie', 'score': 1.0}, {'start': 7, 'end':...</td>\n",
       "    </tr>\n",
       "    <tr>\n",
       "      <th>76</th>\n",
       "      <td>macaranduba em prancha</td>\n",
       "      <td>[{'start': 0, 'end': 11, 'text': 'macaranduba', 'label': 'especie', 'score': 1.0}, {'start': 15,...</td>\n",
       "    </tr>\n",
       "    <tr>\n",
       "      <th>77</th>\n",
       "      <td>barrote 5x5cm mista</td>\n",
       "      <td>[{'start': 0, 'end': 7, 'text': 'barrote', 'label': 'corte', 'score': 1.0}, {'start': 8, 'end': ...</td>\n",
       "    </tr>\n",
       "    <tr>\n",
       "      <th>78</th>\n",
       "      <td>linha 5x13 angelim 3.50mt</td>\n",
       "      <td>[{'start': 0, 'end': 5, 'text': 'linha', 'label': 'corte', 'score': 1.0}, {'start': 6, 'end': 10...</td>\n",
       "    </tr>\n",
       "    <tr>\n",
       "      <th>79</th>\n",
       "      <td>pv-kit tabua e martelo em madeir</td>\n",
       "      <td>[{'start': 7, 'end': 12, 'text': 'tabua', 'label': 'corte', 'score': 1.0}, {'start': 15, 'end': ...</td>\n",
       "    </tr>\n",
       "    <tr>\n",
       "      <th>80</th>\n",
       "      <td>linha mix 3x4 6,0mt madeira</td>\n",
       "      <td>[{'start': 10, 'end': 13, 'text': '3x4', 'label': 'dimensao', 'score': 1.0}, {'start': 14, 'end'...</td>\n",
       "    </tr>\n",
       "    <tr>\n",
       "      <th>81</th>\n",
       "      <td>mad da especie cupiuba indus de res de ripa</td>\n",
       "      <td>[{'start': 15, 'end': 22, 'text': 'cupiuba', 'label': 'especie', 'score': 1.0}, {'start': 32, 'e...</td>\n",
       "    </tr>\n",
       "    <tr>\n",
       "      <th>82</th>\n",
       "      <td>linha 5x11 angelim 4.50mt</td>\n",
       "      <td>[{'start': 0, 'end': 5, 'text': 'linha', 'label': 'corte', 'score': 1.0}, {'start': 6, 'end': 10...</td>\n",
       "    </tr>\n",
       "    <tr>\n",
       "      <th>83</th>\n",
       "      <td>linha angelim 5 x 9</td>\n",
       "      <td>[{'start': 6, 'end': 13, 'text': 'angelim', 'label': 'especie', 'score': 1.0}, {'start': 14, 'en...</td>\n",
       "    </tr>\n",
       "    <tr>\n",
       "      <th>84</th>\n",
       "      <td>caibrinho em angelim vermelho m3</td>\n",
       "      <td>[{'start': 0, 'end': 9, 'text': 'caibrinho', 'label': 'especie', 'score': 1.0}, {'start': 13, 'e...</td>\n",
       "    </tr>\n",
       "    <tr>\n",
       "      <th>85</th>\n",
       "      <td>linha 5x11cm ( 3x5??) angelim vermelho</td>\n",
       "      <td>[{'start': 0, 'end': 5, 'text': 'linha', 'label': 'corte', 'score': 1.0}, {'start': 6, 'end': 12...</td>\n",
       "    </tr>\n",
       "    <tr>\n",
       "      <th>86</th>\n",
       "      <td>linha macaranduba 5,50 x 20 3/8</td>\n",
       "      <td>[{'start': 6, 'end': 17, 'text': 'macaranduba', 'label': 'especie', 'score': 1.0}, {'start': 18,...</td>\n",
       "    </tr>\n",
       "    <tr>\n",
       "      <th>87</th>\n",
       "      <td>mourao de euc. imunizado 4,0 m - 04/06</td>\n",
       "      <td>[{'start': 0, 'end': 6, 'text': 'mourao', 'label': 'corte', 'score': 1.0}, {'start': 10, 'end': ...</td>\n",
       "    </tr>\n",
       "    <tr>\n",
       "      <th>88</th>\n",
       "      <td>caibro 5x3 angelin 3.50mt</td>\n",
       "      <td>[{'start': 0, 'end': 6, 'text': 'caibro', 'label': 'corte', 'score': 1.0}, {'start': 7, 'end': 1...</td>\n",
       "    </tr>\n",
       "    <tr>\n",
       "      <th>89</th>\n",
       "      <td>ripao 1x5cm massaranduba</td>\n",
       "      <td>[{'start': 0, 'end': 5, 'text': 'ripao', 'label': 'corte', 'score': 1.0}, {'start': 6, 'end': 11...</td>\n",
       "    </tr>\n",
       "    <tr>\n",
       "      <th>90</th>\n",
       "      <td>madeira macaraduba ser. em ripa</td>\n",
       "      <td>[{'start': 8, 'end': 18, 'text': 'macaraduba', 'label': 'especie', 'score': 1.0}, {'start': 27, ...</td>\n",
       "    </tr>\n",
       "    <tr>\n",
       "      <th>91</th>\n",
       "      <td>palitos para dente a</td>\n",
       "      <td>[{'start': 0, 'end': 18, 'text': 'palitos para dente', 'label': 'corte', 'score': 1.0}]</td>\n",
       "    </tr>\n",
       "    <tr>\n",
       "      <th>92</th>\n",
       "      <td>assoalho de ipe</td>\n",
       "      <td>[{'start': 0, 'end': 8, 'text': 'assoalho', 'label': 'corte', 'score': 1.0}, {'start': 12, 'end'...</td>\n",
       "    </tr>\n",
       "    <tr>\n",
       "      <th>93</th>\n",
       "      <td>madeirite 1.10x2.20 comum 05mm</td>\n",
       "      <td>[{'start': 0, 'end': 9, 'text': 'madeirite', 'label': 'especie', 'score': 1.0}, {'start': 10, 'e...</td>\n",
       "    </tr>\n",
       "    <tr>\n",
       "      <th>94</th>\n",
       "      <td>nd sarrafo pinus aparelhado 2,5x5cm m/l-nedri/oliva/forrovel</td>\n",
       "      <td>[{'start': 3, 'end': 10, 'text': 'sarrafo', 'label': 'corte', 'score': 1.0}, {'start': 11, 'end'...</td>\n",
       "    </tr>\n",
       "    <tr>\n",
       "      <th>95</th>\n",
       "      <td>madeira serrada viga cupiuba</td>\n",
       "      <td>[{'start': 8, 'end': 15, 'text': 'serrada', 'label': 'corte', 'score': 1.0}, {'start': 21, 'end'...</td>\n",
       "    </tr>\n",
       "    <tr>\n",
       "      <th>96</th>\n",
       "      <td>quarubarana serrada em vigotas</td>\n",
       "      <td>[{'start': 0, 'end': 11, 'text': 'quarubarana', 'label': 'especie', 'score': 1.0}, {'start': 12,...</td>\n",
       "    </tr>\n",
       "    <tr>\n",
       "      <th>97</th>\n",
       "      <td>ripa 1,5x3</td>\n",
       "      <td>[{'start': 5, 'end': 10, 'text': '1,5x3', 'label': 'dimensao', 'score': 1.0}]</td>\n",
       "    </tr>\n",
       "    <tr>\n",
       "      <th>98</th>\n",
       "      <td>caibro massar</td>\n",
       "      <td>[{'start': 0, 'end': 6, 'text': 'caibro', 'label': 'corte', 'score': 1.0}, {'start': 7, 'end': 1...</td>\n",
       "    </tr>\n",
       "    <tr>\n",
       "      <th>99</th>\n",
       "      <td>palito de dentes aurea 100und</td>\n",
       "      <td>[{'start': 0, 'end': 16, 'text': 'palito de dentes', 'label': 'corte', 'score': 1.0}, {'start': ...</td>\n",
       "    </tr>\n",
       "  </tbody>\n",
       "</table>\n",
       "</div>"
      ],
      "text/plain": [
       "                                                               text  \\\n",
       "0                                 angelim verm aproveitamento ripas   \n",
       "1                                                caibro mixto 4,5mt   \n",
       "2                                         caibro 5x3 angelin 5.50mt   \n",
       "3                               tabua de pinnus aplainada 3m x 15cm   \n",
       "4                                                      trave 2x10cm   \n",
       "5                               madeirite 10mm 2,20x1,10mm resinado   \n",
       "6                mad. esp. ang. vermelho industrializada de residuo   \n",
       "7                                        frechal 5x4 angelim 4.50mt   \n",
       "8                                           jogo cozinha em madeira   \n",
       "9                                  conjunto de utensilios para cozi   \n",
       "10                                       frechal 5x4 angelim 7.00mt   \n",
       "11                          porta laminada jatoba 210 x 90 pormatex   \n",
       "12                              madeira serrada viga de macaranduba   \n",
       "13                                                             ripa   \n",
       "14                                               caibro massa 2,5mt   \n",
       "15               guajara bolacha mad ind de residuo (short-sarrafo)   \n",
       "16                                              sarrafo 7x2cm pinus   \n",
       "17                                             muiracatiara serrada   \n",
       "18                                 macaranduba madeira serrada ripa   \n",
       "19                                               caibro macaranduba   \n",
       "20                                               linha 5x20cm mista   \n",
       "21                                caibro 3x5 4.50mt de massaranduba   \n",
       "22                                      palitos p/ dentes aurea gde   \n",
       "23                                              ripa mista 1,3x5x1m   \n",
       "24                                        linha 5x20cm massaranduba   \n",
       "25                                                massaranduba viga   \n",
       "26                         espeto p/churrasco bambu fiat lux 10x100   \n",
       "27                                                    caibros 5x3.5   \n",
       "28                                              linha mix 3x6 5,5mt   \n",
       "29                                      linhas de 5,5 metros de 14c   \n",
       "30                                     linhas de 3,5 metros de 14cm   \n",
       "31                                                          caibros   \n",
       "32                                               linha 5x12cm mista   \n",
       "33                                 pv-kit colher / espatula em made   \n",
       "34                                                tabua de 30x2.2cm   \n",
       "35                                         linha mass 5 x 24 - 6,50   \n",
       "36                          madeirite plastificado 1,10 x 2,20 12mm   \n",
       "37                       madeira angelim vermelho serrada em vigota   \n",
       "38                                         linha mass 5 x 24 - 3,00   \n",
       "39                                    porta jatoba diag 0,90 x 2,10   \n",
       "40                                               jatoba prancha - m   \n",
       "41                                        linha 5x24 angelim 4.50mt   \n",
       "42                                              linha mix 3x4 4,5mt   \n",
       "43                                             jatoba serd pranchas   \n",
       "44                              macaranduba serr. ind.res.ripa mani   \n",
       "45                                             tabua 30x3,0cm mista   \n",
       "46                                     linhas de 7,5 meros de 12 cm   \n",
       "47                                     linha 5 x 11.5cm 3,50mt ang.   \n",
       "48                                               linha 5x14cm mista   \n",
       "49                                             ripa angelim 5x1.0cm   \n",
       "50                                       jogo 3 colheres em madeira   \n",
       "51              kit pallet one wey eliz 1200x1100mm - 0000000154321   \n",
       "52                                             tabua 15x2,0cm pinus   \n",
       "53  madeira beneficiada ( portais com alizares  ) da especie jatoba   \n",
       "54                                 ipe mad ind de residuo caibrinho   \n",
       "55                                     macaranduba serr. em sarrafo   \n",
       "56                                        linha 5x11 angelim 5.00mt   \n",
       "57                                              timborana tabua - m   \n",
       "58                                             tabua 30x2,0cm pinus   \n",
       "59                                                timburana serrado   \n",
       "60                                       pv-jogo cozinha em madeira   \n",
       "61              madeira serrada tipo sarrafo da especie macaranduba   \n",
       "62                                     folha de louro ervas7tempero   \n",
       "63                                   angelim vermelho serrado vigas   \n",
       "64                             ripas (1.2x5cm) madeira massaranduba   \n",
       "65                                               caibro 3x5cm misto   \n",
       "66                                                            ripas   \n",
       "67                                          palito cory meio amargo   \n",
       "68                                     pv-rolo de massas em madeira   \n",
       "69                                 pv-conjunto de utensilios para c   \n",
       "70                                             barrote 5x5cm massar   \n",
       "71                                        linha 5x09 angelim 3.50mt   \n",
       "72                                        linha 5x12cm massaranduba   \n",
       "73                                  ripa massaranduba 3,0mt madeira   \n",
       "74                         tabua de pinnus marceneiro 3m x 30 x 2.5   \n",
       "75                                                 piquia tabua - m   \n",
       "76                                           macaranduba em prancha   \n",
       "77                                              barrote 5x5cm mista   \n",
       "78                                        linha 5x13 angelim 3.50mt   \n",
       "79                                 pv-kit tabua e martelo em madeir   \n",
       "80                                      linha mix 3x4 6,0mt madeira   \n",
       "81                      mad da especie cupiuba indus de res de ripa   \n",
       "82                                        linha 5x11 angelim 4.50mt   \n",
       "83                                              linha angelim 5 x 9   \n",
       "84                                 caibrinho em angelim vermelho m3   \n",
       "85                           linha 5x11cm ( 3x5??) angelim vermelho   \n",
       "86                                  linha macaranduba 5,50 x 20 3/8   \n",
       "87                           mourao de euc. imunizado 4,0 m - 04/06   \n",
       "88                                        caibro 5x3 angelin 3.50mt   \n",
       "89                                         ripao 1x5cm massaranduba   \n",
       "90                                  madeira macaraduba ser. em ripa   \n",
       "91                                             palitos para dente a   \n",
       "92                                                  assoalho de ipe   \n",
       "93                                   madeirite 1.10x2.20 comum 05mm   \n",
       "94     nd sarrafo pinus aparelhado 2,5x5cm m/l-nedri/oliva/forrovel   \n",
       "95                                     madeira serrada viga cupiuba   \n",
       "96                                   quarubarana serrada em vigotas   \n",
       "97                                                       ripa 1,5x3   \n",
       "98                                                    caibro massar   \n",
       "99                                    palito de dentes aurea 100und   \n",
       "\n",
       "                                                                                             weak_label  \n",
       "0   [{'start': 0, 'end': 12, 'text': 'angelim verm', 'label': 'especie', 'score': 1.0}, {'start': 13...  \n",
       "1   [{'start': 0, 'end': 12, 'text': 'caibro mixto', 'label': 'corte', 'score': 1.0}, {'start': 13, ...  \n",
       "2   [{'start': 0, 'end': 6, 'text': 'caibro', 'label': 'corte', 'score': 1.0}, {'start': 7, 'end': 1...  \n",
       "3   [{'start': 9, 'end': 15, 'text': 'pinnus', 'label': 'especie', 'score': 1.0}, {'start': 16, 'end...  \n",
       "4                        [{'start': 6, 'end': 12, 'text': '2x10cm', 'label': 'dimensao', 'score': 1.0}]  \n",
       "5   [{'start': 0, 'end': 9, 'text': 'madeirite', 'label': 'especie', 'score': 1.0}, {'start': 10, 'e...  \n",
       "6   [{'start': 10, 'end': 23, 'text': 'ang. vermelho', 'label': 'especie', 'score': 1.0}, {'start': ...  \n",
       "7   [{'start': 0, 'end': 7, 'text': 'frechal', 'label': 'especie', 'score': 1.0}, {'start': 8, 'end'...  \n",
       "8                                                                                                    []  \n",
       "9                                                                                                    []  \n",
       "10  [{'start': 0, 'end': 7, 'text': 'frechal', 'label': 'especie', 'score': 1.0}, {'start': 8, 'end'...  \n",
       "11  [{'start': 6, 'end': 14, 'text': 'laminada', 'label': 'corte', 'score': 1.0}, {'start': 22, 'end...  \n",
       "12  [{'start': 8, 'end': 15, 'text': 'serrada', 'label': 'corte', 'score': 1.0}, {'start': 24, 'end'...  \n",
       "13                             [{'start': 0, 'end': 4, 'text': 'ripa', 'label': 'corte', 'score': 1.0}]  \n",
       "14  [{'start': 0, 'end': 6, 'text': 'caibro', 'label': 'corte', 'score': 1.0}, {'start': 13, 'end': ...  \n",
       "15  [{'start': 0, 'end': 7, 'text': 'guajara', 'label': 'especie', 'score': 1.0}, {'start': 36, 'end...  \n",
       "16  [{'start': 0, 'end': 7, 'text': 'sarrafo', 'label': 'corte', 'score': 1.0}, {'start': 8, 'end': ...  \n",
       "17  [{'start': 0, 'end': 12, 'text': 'muiracatiara', 'label': 'especie', 'score': 1.0}, {'start': 13...  \n",
       "18  [{'start': 0, 'end': 11, 'text': 'macaranduba', 'label': 'especie', 'score': 1.0}, {'start': 20,...  \n",
       "19  [{'start': 0, 'end': 6, 'text': 'caibro', 'label': 'corte', 'score': 1.0}, {'start': 7, 'end': 1...  \n",
       "20                       [{'start': 6, 'end': 12, 'text': '5x20cm', 'label': 'dimensao', 'score': 1.0}]  \n",
       "21  [{'start': 0, 'end': 6, 'text': 'caibro', 'label': 'corte', 'score': 1.0}, {'start': 7, 'end': 1...  \n",
       "22  [{'start': 0, 'end': 17, 'text': 'palitos p/ dentes', 'label': 'corte', 'score': 1.0}, {'start':...  \n",
       "23  [{'start': 0, 'end': 10, 'text': 'ripa mista', 'label': 'corte', 'score': 1.0}, {'start': 11, 'e...  \n",
       "24  [{'start': 0, 'end': 5, 'text': 'linha', 'label': 'corte', 'score': 1.0}, {'start': 6, 'end': 12...  \n",
       "25  [{'start': 0, 'end': 12, 'text': 'massaranduba', 'label': 'especie', 'score': 1.0}, {'start': 13...  \n",
       "26  [{'start': 0, 'end': 6, 'text': 'espeto', 'label': 'corte', 'score': 1.0}, {'start': 19, 'end': ...  \n",
       "27                        [{'start': 8, 'end': 13, 'text': '5x3.5', 'label': 'dimensao', 'score': 1.0}]  \n",
       "28  [{'start': 10, 'end': 13, 'text': '3x6', 'label': 'dimensao', 'score': 1.0}, {'start': 14, 'end'...  \n",
       "29  [{'start': 10, 'end': 20, 'text': '5,5 metros', 'label': 'dimensao', 'score': 1.0}, {'start': 24...  \n",
       "30  [{'start': 10, 'end': 20, 'text': '3,5 metros', 'label': 'dimensao', 'score': 1.0}, {'start': 24...  \n",
       "31                          [{'start': 0, 'end': 7, 'text': 'caibros', 'label': 'corte', 'score': 1.0}]  \n",
       "32  [{'start': 6, 'end': 12, 'text': '5x12cm', 'label': 'dimensao', 'score': 1.0}, {'start': 13, 'en...  \n",
       "33  [{'start': 7, 'end': 13, 'text': 'colher', 'label': 'corte', 'score': 1.0}, {'start': 16, 'end':...  \n",
       "34                     [{'start': 9, 'end': 17, 'text': '30x2.2cm', 'label': 'dimensao', 'score': 1.0}]  \n",
       "35  [{'start': 0, 'end': 10, 'text': 'linha mass', 'label': 'corte', 'score': 1.0}, {'start': 11, 'e...  \n",
       "36  [{'start': 0, 'end': 22, 'text': 'madeirite plastificado', 'label': 'especie', 'score': 1.0}, {'...  \n",
       "37  [{'start': 8, 'end': 24, 'text': 'angelim vermelho', 'label': 'especie', 'score': 1.0}, {'start'...  \n",
       "38  [{'start': 0, 'end': 10, 'text': 'linha mass', 'label': 'corte', 'score': 1.0}, {'start': 11, 'e...  \n",
       "39  [{'start': 13, 'end': 17, 'text': 'diag', 'label': 'corte', 'score': 1.0}, {'start': 18, 'end': ...  \n",
       "40  [{'start': 7, 'end': 14, 'text': 'prancha', 'label': 'corte', 'score': 1.0}, {'start': 17, 'end'...  \n",
       "41  [{'start': 0, 'end': 5, 'text': 'linha', 'label': 'corte', 'score': 1.0}, {'start': 6, 'end': 10...  \n",
       "42  [{'start': 10, 'end': 13, 'text': '3x4', 'label': 'dimensao', 'score': 1.0}, {'start': 14, 'end'...  \n",
       "43  [{'start': 7, 'end': 11, 'text': 'serd', 'label': 'corte', 'score': 1.0}, {'start': 12, 'end': 2...  \n",
       "44  [{'start': 0, 'end': 11, 'text': 'macaranduba', 'label': 'especie', 'score': 1.0}, {'start': 12,...  \n",
       "45  [{'start': 6, 'end': 14, 'text': '30x3,0cm', 'label': 'dimensao', 'score': 1.0}, {'start': 15, '...  \n",
       "46  [{'start': 10, 'end': 19, 'text': '7,5 meros', 'label': 'dimensao', 'score': 1.0}, {'start': 23,...  \n",
       "47  [{'start': 0, 'end': 16, 'text': 'linha 5 x 11.5cm', 'label': 'dimensao', 'score': 1.0}, {'start...  \n",
       "48                       [{'start': 6, 'end': 12, 'text': '5x14cm', 'label': 'dimensao', 'score': 1.0}]  \n",
       "49  [{'start': 0, 'end': 4, 'text': 'ripa', 'label': 'corte', 'score': 1.0}, {'start': 5, 'end': 12,...  \n",
       "50  [{'start': 5, 'end': 6, 'text': '3', 'label': 'dimensao', 'score': 1.0}, {'start': 7, 'end': 13,...  \n",
       "51                 [{'start': 24, 'end': 35, 'text': '1200x1100mm', 'label': 'dimensao', 'score': 1.0}]  \n",
       "52  [{'start': 0, 'end': 5, 'text': 'tabua', 'label': 'corte', 'score': 1.0}, {'start': 6, 'end': 14...  \n",
       "53  [{'start': 8, 'end': 19, 'text': 'beneficiada', 'label': 'corte', 'score': 1.0}, {'start': 22, '...  \n",
       "54  [{'start': 0, 'end': 11, 'text': 'ipe mad ind', 'label': 'especie', 'score': 1.0}, {'start': 15,...  \n",
       "55  [{'start': 0, 'end': 11, 'text': 'macaranduba', 'label': 'especie', 'score': 1.0}, {'start': 12,...  \n",
       "56  [{'start': 0, 'end': 5, 'text': 'linha', 'label': 'corte', 'score': 1.0}, {'start': 6, 'end': 10...  \n",
       "57  [{'start': 0, 'end': 9, 'text': 'timborana', 'label': 'especie', 'score': 1.0}, {'start': 2, 'en...  \n",
       "58  [{'start': 6, 'end': 14, 'text': '30x2,0cm', 'label': 'dimensao', 'score': 1.0}, {'start': 15, '...  \n",
       "59  [{'start': 0, 'end': 9, 'text': 'timburana', 'label': 'especie', 'score': 1.0}, {'start': 10, 'e...  \n",
       "60                                                                                                   []  \n",
       "61  [{'start': 8, 'end': 15, 'text': 'serrada', 'label': 'corte', 'score': 1.0}, {'start': 21, 'end'...  \n",
       "62                [{'start': 0, 'end': 14, 'text': 'folha de louro', 'label': 'especie', 'score': 1.0}]  \n",
       "63  [{'start': 0, 'end': 16, 'text': 'angelim vermelho', 'label': 'especie', 'score': 1.0}, {'start'...  \n",
       "64  [{'start': 0, 'end': 5, 'text': 'ripas', 'label': 'corte', 'score': 1.0}, {'start': 7, 'end': 14...  \n",
       "65  [{'start': 7, 'end': 12, 'text': '3x5cm', 'label': 'dimensao', 'score': 1.0}, {'start': 13, 'end...  \n",
       "66                            [{'start': 0, 'end': 5, 'text': 'ripas', 'label': 'corte', 'score': 1.0}]  \n",
       "67  [{'start': 0, 'end': 11, 'text': 'palito cory', 'label': 'especie', 'score': 1.0}, {'start': 12,...  \n",
       "68               [{'start': 0, 'end': 17, 'text': 'pv-rolo de massas', 'label': 'corte', 'score': 1.0}]  \n",
       "69                                                                                                   []  \n",
       "70  [{'start': 0, 'end': 7, 'text': 'barrote', 'label': 'corte', 'score': 1.0}, {'start': 8, 'end': ...  \n",
       "71  [{'start': 0, 'end': 5, 'text': 'linha', 'label': 'corte', 'score': 1.0}, {'start': 6, 'end': 10...  \n",
       "72  [{'start': 0, 'end': 5, 'text': 'linha', 'label': 'corte', 'score': 1.0}, {'start': 6, 'end': 12...  \n",
       "73  [{'start': 0, 'end': 4, 'text': 'ripa', 'label': 'corte', 'score': 1.0}, {'start': 5, 'end': 17,...  \n",
       "74  [{'start': 0, 'end': 5, 'text': 'tabua', 'label': 'corte', 'score': 1.0}, {'start': 9, 'end': 15...  \n",
       "75  [{'start': 0, 'end': 6, 'text': 'piquia', 'label': 'especie', 'score': 1.0}, {'start': 7, 'end':...  \n",
       "76  [{'start': 0, 'end': 11, 'text': 'macaranduba', 'label': 'especie', 'score': 1.0}, {'start': 15,...  \n",
       "77  [{'start': 0, 'end': 7, 'text': 'barrote', 'label': 'corte', 'score': 1.0}, {'start': 8, 'end': ...  \n",
       "78  [{'start': 0, 'end': 5, 'text': 'linha', 'label': 'corte', 'score': 1.0}, {'start': 6, 'end': 10...  \n",
       "79  [{'start': 7, 'end': 12, 'text': 'tabua', 'label': 'corte', 'score': 1.0}, {'start': 15, 'end': ...  \n",
       "80  [{'start': 10, 'end': 13, 'text': '3x4', 'label': 'dimensao', 'score': 1.0}, {'start': 14, 'end'...  \n",
       "81  [{'start': 15, 'end': 22, 'text': 'cupiuba', 'label': 'especie', 'score': 1.0}, {'start': 32, 'e...  \n",
       "82  [{'start': 0, 'end': 5, 'text': 'linha', 'label': 'corte', 'score': 1.0}, {'start': 6, 'end': 10...  \n",
       "83  [{'start': 6, 'end': 13, 'text': 'angelim', 'label': 'especie', 'score': 1.0}, {'start': 14, 'en...  \n",
       "84  [{'start': 0, 'end': 9, 'text': 'caibrinho', 'label': 'especie', 'score': 1.0}, {'start': 13, 'e...  \n",
       "85  [{'start': 0, 'end': 5, 'text': 'linha', 'label': 'corte', 'score': 1.0}, {'start': 6, 'end': 12...  \n",
       "86  [{'start': 6, 'end': 17, 'text': 'macaranduba', 'label': 'especie', 'score': 1.0}, {'start': 18,...  \n",
       "87  [{'start': 0, 'end': 6, 'text': 'mourao', 'label': 'corte', 'score': 1.0}, {'start': 10, 'end': ...  \n",
       "88  [{'start': 0, 'end': 6, 'text': 'caibro', 'label': 'corte', 'score': 1.0}, {'start': 7, 'end': 1...  \n",
       "89  [{'start': 0, 'end': 5, 'text': 'ripao', 'label': 'corte', 'score': 1.0}, {'start': 6, 'end': 11...  \n",
       "90  [{'start': 8, 'end': 18, 'text': 'macaraduba', 'label': 'especie', 'score': 1.0}, {'start': 27, ...  \n",
       "91              [{'start': 0, 'end': 18, 'text': 'palitos para dente', 'label': 'corte', 'score': 1.0}]  \n",
       "92  [{'start': 0, 'end': 8, 'text': 'assoalho', 'label': 'corte', 'score': 1.0}, {'start': 12, 'end'...  \n",
       "93  [{'start': 0, 'end': 9, 'text': 'madeirite', 'label': 'especie', 'score': 1.0}, {'start': 10, 'e...  \n",
       "94  [{'start': 3, 'end': 10, 'text': 'sarrafo', 'label': 'corte', 'score': 1.0}, {'start': 11, 'end'...  \n",
       "95  [{'start': 8, 'end': 15, 'text': 'serrada', 'label': 'corte', 'score': 1.0}, {'start': 21, 'end'...  \n",
       "96  [{'start': 0, 'end': 11, 'text': 'quarubarana', 'label': 'especie', 'score': 1.0}, {'start': 12,...  \n",
       "97                        [{'start': 5, 'end': 10, 'text': '1,5x3', 'label': 'dimensao', 'score': 1.0}]  \n",
       "98  [{'start': 0, 'end': 6, 'text': 'caibro', 'label': 'corte', 'score': 1.0}, {'start': 7, 'end': 1...  \n",
       "99  [{'start': 0, 'end': 16, 'text': 'palito de dentes', 'label': 'corte', 'score': 1.0}, {'start': ...  "
      ]
     },
     "execution_count": 86,
     "metadata": {},
     "output_type": "execute_result"
    }
   ],
   "source": [
    "df_lf_openai[\"weak_label\"] = df_lf_openai.apply(\n",
    "    lambda x: convert_pydantic_to_gliner_format(x.text, x.weak_label), axis=1\n",
    ")\n",
    "\n",
    "df_lf_openai"
   ]
  },
  {
   "cell_type": "markdown",
   "metadata": {},
   "source": [
    "## 2.Gliner"
   ]
  },
  {
   "cell_type": "markdown",
   "metadata": {},
   "source": [
    "<h4>\n",
    "Além dos anotadores que criamos com a lista de espécies e corte de madeira, e por o problema ser bem específico não fui capaz de achar nenhum tipo de modelo pré-treinado para a tarefa de NER do domínio selecionado.<br>\n",
    "Por isso vamos utilizar os modelos zero shot do GliNER, utilizando os nossos domínios esses modelos irão tentar rotular o texto sem nenhum treinamento prévio, o que pode ajudar bastante a solução da tarefa.  \n",
    "</h4>"
   ]
  },
  {
   "cell_type": "code",
   "execution_count": 87,
   "metadata": {},
   "outputs": [],
   "source": [
    "# from gliner import GLiNER\n",
    "\n",
    "# model_gliner_llama = GLiNER.from_pretrained(\n",
    "#     \"knowledgator/gliner-llama-1.3B-v1.0\",\n",
    "# )\n",
    "\n",
    "# model_gliner_bi_large = GLiNER.from_pretrained(\n",
    "#     \"knowledgator/gliner-bi-large-v1.0\",\n",
    "# )\n",
    "\n",
    "# model_gliner_qwen = GLiNER.from_pretrained(\n",
    "#     \"knowledgator/gliner-qwen-1.5B-v1.0\",\n",
    "# )\n",
    "\n",
    "# model_gliner_llama = model_gliner_llama.half()\n",
    "# model_gliner_bi_large = model_gliner_bi_large.half()\n",
    "# model_gliner_qwen = model_gliner_qwen.half()"
   ]
  },
  {
   "cell_type": "code",
   "execution_count": 88,
   "metadata": {},
   "outputs": [],
   "source": [
    "doc = nlp(\"madeira serrada massaranduba (manilkara huberi) 2.5 metro 2 vigas de 10x15cm e 3 tabuas de 2,5x30x200cm\")\n",
    "text = doc.text\n",
    "\n",
    "labels = [\"ESPECIE\", \"CORTE\", \"DIMENSAO\"]"
   ]
  },
  {
   "cell_type": "code",
   "execution_count": 89,
   "metadata": {},
   "outputs": [],
   "source": [
    "from spacy import displacy\n",
    "from typing import Any\n",
    "\n",
    "def render_entity_data_from_pipeline(\n",
    "    text: str,\n",
    "    pipeline_results: list[dict[str, Any]],\n",
    "    colors: dict[str, str] = None,\n",
    "    label_key_name: str = \"entity_group\",\n",
    ") -> None:\n",
    "    # Extract entity spans (start, end, label) from pipeline results\n",
    "    entity_spans = [\n",
    "        (result[\"start\"], result[\"end\"], result[label_key_name])\n",
    "        for result in pipeline_results\n",
    "    ]\n",
    "\n",
    "    # If no colors are provided, assign default colors to each entity type\n",
    "    if colors is None:\n",
    "        entity_types = list(set(span[2] for span in entity_spans))\n",
    "        # Default colors for up to 5 entity types; cycle if more\n",
    "        default_colors = ['#FF0000', '#00FF00', '#0000FF', '#FFFF00', '#FF00FF']\n",
    "        colors = {}\n",
    "        for i, entity_type in enumerate(entity_types):\n",
    "            colors[entity_type] = default_colors[i % len(default_colors)]\n",
    "\n",
    "    # Configure displacy options with entity labels and their colors\n",
    "    displacy_options = {\n",
    "        \"ents\": list(colors.keys()),\n",
    "        \"colors\": colors  # Pass the color mapping dictionary\n",
    "    }\n",
    "\n",
    "    # Prepare data in the format required by displacy\n",
    "    displacy_data = [{\n",
    "        \"text\": text,\n",
    "        \"ents\": [\n",
    "            {\"start\": start, \"end\": end, \"label\": label}\n",
    "            for start, end, label in entity_spans\n",
    "        ]\n",
    "    }]\n",
    "\n",
    "    # Render the entities using displacy\n",
    "    displacy.render(\n",
    "        displacy_data,\n",
    "        style=\"ent\",\n",
    "        manual=True,\n",
    "        jupyter=True,\n",
    "        options=displacy_options\n",
    "    )"
   ]
  },
  {
   "cell_type": "code",
   "execution_count": 90,
   "metadata": {},
   "outputs": [],
   "source": [
    "# result = model_gliner_llama.predict_entities(text, labels, threshold=0.5)\n",
    "\n",
    "# print(result)\n",
    "\n",
    "# render_entity_data_from_pipeline(text, result, label_key_name=\"label\")"
   ]
  },
  {
   "cell_type": "code",
   "execution_count": 91,
   "metadata": {},
   "outputs": [],
   "source": [
    "# result = model_gliner_bi_large.predict_entities(text, labels, threshold=0.5)\n",
    "\n",
    "# print(result)\n",
    "\n",
    "# render_entity_data_from_pipeline(text, result, label_key_name=\"label\")"
   ]
  },
  {
   "cell_type": "code",
   "execution_count": 92,
   "metadata": {},
   "outputs": [],
   "source": [
    "# result = model_gliner_qwen.predict_entities(text, labels, threshold=0.5)\n",
    "\n",
    "# print(result)\n",
    "\n",
    "# render_entity_data_from_pipeline(text, result, label_key_name=\"label\")"
   ]
  },
  {
   "cell_type": "markdown",
   "metadata": {},
   "source": [
    "<h4>\n",
    "Okay não começamos bem. Para o nosso exemplo simples apenas o modelo do Qwen foi capaz de identicar algumas entidades, parece que a entidade de corte foi um desafio para esses modelos.<br>\n",
    "Vamos observar em uma quantidade maior de dados, vamos utilizar 50 instâncias do conjunto de treinamento para ver se podemos utilizar esses modelos como anotadores para o nosso problema.\n",
    "</h4>"
   ]
  },
  {
   "cell_type": "code",
   "execution_count": 93,
   "metadata": {},
   "outputs": [],
   "source": [
    "texts_to_test = [doc.text for doc in spacy_docs_train[:50]]"
   ]
  },
  {
   "cell_type": "code",
   "execution_count": 94,
   "metadata": {},
   "outputs": [],
   "source": [
    "from tqdm import tqdm\n",
    "def create_entity_dataframe(texts, model, labels, threshold=0.5):\n",
    "    \"\"\"\n",
    "    Process multiple texts and create a DataFrame with entities\n",
    "    \n",
    "    Args:\n",
    "        texts (list): List of texts to process\n",
    "        model: Your GLiNER model\n",
    "        labels (list): Entity labels to predict\n",
    "        threshold (float): Confidence threshold\n",
    "    \n",
    "    Returns:\n",
    "        pd.DataFrame: DataFrame with text, entities, and entity count\n",
    "    \"\"\"\n",
    "    data = []\n",
    "    \n",
    "    for text in tqdm(texts):  # tqdm adds progress bar\n",
    "        # Get predictions from model\n",
    "        entities = model.predict_entities(text, labels, threshold=threshold)\n",
    "        \n",
    "        # Format results\n",
    "        data.append({\n",
    "            \"text\": text,\n",
    "            \"entities\": entities,\n",
    "            \"n_entities\": len(entities)\n",
    "        })\n",
    "    \n",
    "    return pd.DataFrame(data)"
   ]
  },
  {
   "cell_type": "code",
   "execution_count": 95,
   "metadata": {},
   "outputs": [],
   "source": [
    "# llama_df = create_entity_dataframe(\n",
    "#     texts=texts_to_test,\n",
    "#     model=model_gliner_llama,\n",
    "#     labels=labels,\n",
    "#     threshold=0.5\n",
    "# )"
   ]
  },
  {
   "cell_type": "markdown",
   "metadata": {},
   "source": [
    "<h4>\n",
    "Contando a quantidade de entidades que o Llama foi capaz de reconhecer.\n",
    "</h4>"
   ]
  },
  {
   "cell_type": "code",
   "execution_count": 96,
   "metadata": {},
   "outputs": [],
   "source": [
    "# llama_df.n_entities.sum()"
   ]
  },
  {
   "cell_type": "markdown",
   "metadata": {},
   "source": [
    "<h4>\n",
    "O llama não foi capaz de achar entidades na amostra de 50 instâncias do conjunto de dados não rotulados, portanto já podemos eliminar o uso desse modelo da nossa pipeline.\n",
    "</h4>"
   ]
  },
  {
   "cell_type": "code",
   "execution_count": 97,
   "metadata": {},
   "outputs": [],
   "source": [
    "# bi_large_df = create_entity_dataframe(\n",
    "#     texts=texts_to_test,\n",
    "#     model=model_gliner_bi_large,\n",
    "#     labels=labels,\n",
    "#     threshold=0.5\n",
    "# )"
   ]
  },
  {
   "cell_type": "code",
   "execution_count": 98,
   "metadata": {},
   "outputs": [],
   "source": [
    "# bi_large_df.n_entities.sum()"
   ]
  },
  {
   "cell_type": "code",
   "execution_count": 99,
   "metadata": {},
   "outputs": [],
   "source": [
    "# bi_large_entities = bi_large_df[bi_large_df.n_entities > 0]\n",
    "# bi_large_entities[['text', 'entities']]"
   ]
  },
  {
   "cell_type": "markdown",
   "metadata": {},
   "source": [
    "<h4>\n",
    "O modelo bi_large foi capaz de achar 3 entidades, porém todas com a entidade errada, também podemos remover esse modelo da pipeline.\n",
    "</h4>"
   ]
  },
  {
   "cell_type": "code",
   "execution_count": 100,
   "metadata": {},
   "outputs": [],
   "source": [
    "# qwen_df = create_entity_dataframe(\n",
    "#     texts=texts_to_test,\n",
    "#     model=model_gliner_qwen,\n",
    "#     labels=labels,\n",
    "#     threshold=0.5\n",
    "# )"
   ]
  },
  {
   "cell_type": "code",
   "execution_count": 101,
   "metadata": {},
   "outputs": [],
   "source": [
    "# qwen_df.n_entities.sum()"
   ]
  },
  {
   "cell_type": "code",
   "execution_count": 102,
   "metadata": {},
   "outputs": [],
   "source": [
    "# qwen_entities = qwen_df[qwen_df.n_entities > 0]\n",
    "# qwen_entities[['text', 'entities']]"
   ]
  },
  {
   "cell_type": "markdown",
   "metadata": {},
   "source": [
    "<h4>\n",
    "O qwen foi o melhor dos 3 modelos, além de ter achado a maior quantidade de entidades grande parte delas está correta, porém existem alguns erros preocupantes, o texto da linha 12 foi completamente selecionada, realmente existe um CORTE, na descrição mas ele não foi devidamente selecionado, além disso Muiracatiara na linha 17 foi selecionado como corte, mas deveria ser uma espécie.<br>\n",
    "Vamos observar os casos em que o modelo não selecionou nenhuma entidade para analisar se estamos tendo um bom coverage ao menos do rótulo desses textos.\n",
    "</h4>"
   ]
  },
  {
   "cell_type": "code",
   "execution_count": 103,
   "metadata": {},
   "outputs": [],
   "source": [
    "# qwen_not_entities = qwen_df[qwen_df.n_entities == 0]\n",
    "# qwen_not_entities[['text', 'entities']]"
   ]
  },
  {
   "cell_type": "markdown",
   "metadata": {},
   "source": [
    "<h4>\n",
    "No conjunto de texto em que o Qwen não foi capaz de identificar nenhuma das entidades existem exemplos como a linha 8, 9, 22 que realmente não deveriam ser rotulados, porém a grande maioria deveria.<br>\n",
    "Por esse motivo e o grande custo que esses modelos possuem comparados as funções de rotulagem que criamos antes também não irei utilizar o Zero shot do Qwen como uma função rotuladora.\n",
    "</h4>"
   ]
  },
  {
   "cell_type": "markdown",
   "metadata": {},
   "source": [
    "## 3. Aplicando Funções de Agregação"
   ]
  },
  {
   "cell_type": "code",
   "execution_count": 104,
   "metadata": {},
   "outputs": [],
   "source": [
    "spacy_docs_train = list(combined.pipe(spacy_docs_train))"
   ]
  },
  {
   "cell_type": "markdown",
   "metadata": {},
   "source": [
    "<h4>\n",
    "Salvar o objeto do Spacy para não precisar rodar o processo anterior múltiplas vezes.\n",
    "</h4>"
   ]
  },
  {
   "cell_type": "code",
   "execution_count": 105,
   "metadata": {},
   "outputs": [
    {
     "name": "stdout",
     "output_type": "stream",
     "text": [
      "Write to artefatos/spacy_docs_train_annotated.bin...done\n"
     ]
    }
   ],
   "source": [
    "skweak.utils.docbin_writer(\n",
    "    spacy_docs_train, \"artefatos/spacy_docs_train_annotated.bin\"\n",
    ")"
   ]
  },
  {
   "cell_type": "markdown",
   "metadata": {},
   "source": [
    "# Save Point"
   ]
  },
  {
   "cell_type": "code",
   "execution_count": 106,
   "metadata": {},
   "outputs": [],
   "source": [
    "import skweak\n",
    "\n",
    "# Now we can load them back, so we don't need to run the labelling functions again\n",
    "spacy_docs_train = skweak.utils.docbin_reader(\n",
    "    \"artefatos/spacy_docs_train_annotated.bin\", spacy_model_name=\"pt_core_news_lg\"\n",
    ")\n",
    "spacy_docs_train = list(spacy_docs_train)"
   ]
  },
  {
   "cell_type": "code",
   "execution_count": 107,
   "metadata": {},
   "outputs": [],
   "source": [
    "majority_voter = skweak.aggregation.MajorityVoter(\n",
    "    name=\"doclevel_voter\",\n",
    "    labels=[\"ESPECIE\", \"CORTE\", \"DIMENSAO\"],\n",
    "    initial_weights={\"doc_majority\": 0.0}  # Evitar a inclusão dele mesmo\n",
    ")\n",
    "\n",
    "spacy_docs_train = list(majority_voter.pipe(spacy_docs_train))\n",
    "\n",
    "doc_majority = skweak.doclevel.DocumentMajorityAnnotator(\"doc_majority\",\"doclevel_voter\")\n",
    "\n",
    "spacy_docs_train = list(doc_majority.pipe(spacy_docs_train))"
   ]
  },
  {
   "cell_type": "code",
   "execution_count": 108,
   "metadata": {},
   "outputs": [
    {
     "name": "stdout",
     "output_type": "stream",
     "text": [
      "Starting iteration 1\n",
      "Finished E-step with 88 documents\n",
      "Starting iteration 2\n",
      "Finished E-step with 88 documents\n",
      "Starting iteration 3\n",
      "Finished E-step with 88 documents\n",
      "Starting iteration 4\n",
      "Finished E-step with 88 documents\n"
     ]
    },
    {
     "name": "stderr",
     "output_type": "stream",
     "text": [
      "         1    -507.47909475             +nan\n",
      "         2    -471.16789110     +36.31120364\n",
      "         3    -464.54054799      +6.62734311\n",
      "         4    -463.15727979      +1.38326820\n"
     ]
    }
   ],
   "source": [
    "initial_weights = {\n",
    "    \"especie_annotator\": .9,\n",
    "    \"cientifico_especie_annotator\": 1,\n",
    "    \"corte_annotator\": 1,\n",
    "    \"dimensao_annotator\": 1,\n",
    "    \"llm_annotator\": 0.7,   \n",
    "    \"doclevel_voter\": 0.5,\n",
    "    \"doc_majority\": 0.6\n",
    "}\n",
    "\n",
    "hmm = skweak.generative.HMM(\n",
    "    \"hmm\", \n",
    "    labels=[\"ESPECIE\", \"CORTE\", \"DIMENSAO\"],\n",
    "    initial_weights=initial_weights\n",
    ")\n",
    "\n",
    "\n",
    "hmm.fit(spacy_docs_train)"
   ]
  },
  {
   "cell_type": "code",
   "execution_count": 109,
   "metadata": {},
   "outputs": [
    {
     "name": "stdout",
     "output_type": "stream",
     "text": [
      "HMM model with following parameters:\n",
      "Output labels: ['O', 'B-ESPECIE', 'I-ESPECIE', 'B-CORTE', 'I-CORTE', 'B-DIMENSAO', 'I-DIMENSAO']\n",
      "--------\n",
      "Start distribution:\n",
      "O             0.25\n",
      "B-ESPECIE     0.14\n",
      "I-ESPECIE     0.00\n",
      "B-CORTE       0.60\n",
      "I-CORTE       0.00\n",
      "B-DIMENSAO    0.01\n",
      "I-DIMENSAO    0.00\n",
      "dtype: float64\n",
      "--------\n",
      "Transition model:\n",
      "               O  B-ESPECIE  I-ESPECIE  B-CORTE  I-CORTE  B-DIMENSAO  I-DIMENSAO\n",
      "O           0.72       0.08       0.00     0.08     0.00        0.12        0.00\n",
      "B-ESPECIE   0.50       0.03       0.14     0.08     0.00        0.25        0.00\n",
      "I-ESPECIE   0.51       0.12       0.12     0.12     0.00        0.12        0.00\n",
      "B-CORTE     0.29       0.23       0.00     0.02     0.02        0.45        0.00\n",
      "I-CORTE     0.20       0.20       0.00     0.20     0.20        0.20        0.00\n",
      "B-DIMENSAO  0.07       0.02       0.00     0.02     0.00        0.02        0.88\n",
      "I-DIMENSAO  0.45       0.20       0.00     0.02     0.00        0.12        0.21\n",
      "--------\n",
      "Labelling functions in model: ['dimensao_annotator', 'especie_annotator', 'cientifico_especie_annotator', 'corte_annotator']\n",
      "Emission model for: cientifico_especie_annotator\n",
      "               O  B-ESPECIE  I-ESPECIE  B-CORTE  I-CORTE  B-DIMENSAO  I-DIMENSAO\n",
      "O           0.94       0.01       0.01     0.01     0.01        0.01        0.01\n",
      "B-ESPECIE   0.06       0.94       0.00     0.00     0.00        0.00        0.00\n",
      "I-ESPECIE   0.23       0.00       0.77     0.00     0.00        0.00        0.00\n",
      "B-CORTE     0.81       0.00       0.00     0.19     0.00        0.00        0.00\n",
      "I-CORTE     0.23       0.00       0.00     0.00     0.77        0.00        0.00\n",
      "B-DIMENSAO  0.81       0.00       0.00     0.00     0.00        0.19        0.00\n",
      "I-DIMENSAO  0.81       0.00       0.00     0.00     0.00        0.00        0.19\n",
      "weights     0.91       0.91       0.93     0.93     0.93        0.93        0.93\n",
      "--------\n",
      "Emission model for: corte_annotator\n",
      "               O  B-ESPECIE  I-ESPECIE  B-CORTE  I-CORTE  B-DIMENSAO  I-DIMENSAO\n",
      "O           0.95       0.00       0.00     0.05     0.00        0.00        0.00\n",
      "B-ESPECIE   0.97       0.03       0.00     0.00     0.00        0.00        0.00\n",
      "I-ESPECIE   0.81       0.00       0.19     0.00     0.00        0.00        0.00\n",
      "B-CORTE     0.00       0.00       0.00     1.00     0.00        0.00        0.00\n",
      "I-CORTE     0.23       0.00       0.00     0.00     0.77        0.00        0.00\n",
      "B-DIMENSAO  0.98       0.00       0.00     0.00     0.00        0.02        0.00\n",
      "I-DIMENSAO  0.98       0.00       0.00     0.00     0.00        0.00        0.02\n",
      "weights     1.00       1.00       1.00     1.00     1.00        1.00        1.00\n",
      "--------\n",
      "Emission model for: dimensao_annotator\n",
      "               O  B-ESPECIE  I-ESPECIE  B-CORTE  I-CORTE  B-DIMENSAO  I-DIMENSAO\n",
      "O           0.97       0.00       0.00     0.00     0.00        0.02         0.0\n",
      "B-ESPECIE   0.96       0.04       0.00     0.00     0.00        0.00         0.0\n",
      "I-ESPECIE   0.49       0.00       0.51     0.00     0.00        0.00         0.0\n",
      "B-CORTE     0.98       0.00       0.00     0.02     0.00        0.00         0.0\n",
      "I-CORTE     0.23       0.00       0.00     0.00     0.77        0.00         0.0\n",
      "B-DIMENSAO  0.00       0.00       0.00     0.00     0.00        1.00         0.0\n",
      "I-DIMENSAO  0.00       0.00       0.00     0.00     0.00        0.00         1.0\n",
      "weights     1.00       1.00       1.00     1.00     1.00        1.00         1.0\n",
      "--------\n",
      "Emission model for: especie_annotator\n",
      "               O  B-ESPECIE  I-ESPECIE  B-CORTE  I-CORTE  B-DIMENSAO  I-DIMENSAO\n",
      "O           0.91       0.08       0.01     0.00     0.00        0.00        0.00\n",
      "B-ESPECIE   0.01       0.99       0.00     0.00     0.00        0.00        0.00\n",
      "I-ESPECIE   0.06       0.00       0.94     0.00     0.00        0.00        0.00\n",
      "B-CORTE     0.98       0.00       0.00     0.02     0.00        0.00        0.00\n",
      "I-CORTE     0.23       0.00       0.00     0.00     0.77        0.00        0.00\n",
      "B-DIMENSAO  0.98       0.00       0.00     0.00     0.00        0.02        0.00\n",
      "I-DIMENSAO  0.80       0.18       0.00     0.00     0.00        0.00        0.02\n",
      "weights     0.82       0.82       0.83     0.83     0.83        0.83        0.83\n",
      "--------\n"
     ]
    }
   ],
   "source": [
    "hmm.pretty_print()"
   ]
  },
  {
   "cell_type": "code",
   "execution_count": 110,
   "metadata": {},
   "outputs": [],
   "source": [
    "maj_voter = skweak.voting.SequentialMajorityVoter(\n",
    "    \"maj_voter\",\n",
    "    labels=[\"ESPECIE\", \"CORTE\", \"DIMENSAO\"],\n",
    "    initial_weights=initial_weights\n",
    ")\n"
   ]
  },
  {
   "cell_type": "code",
   "execution_count": 111,
   "metadata": {},
   "outputs": [],
   "source": [
    "spacy_docs_train = list(hmm.pipe(spacy_docs_train))"
   ]
  },
  {
   "cell_type": "code",
   "execution_count": 112,
   "metadata": {},
   "outputs": [],
   "source": [
    "spacy_docs_train = list(maj_voter.pipe(spacy_docs_train))"
   ]
  },
  {
   "cell_type": "code",
   "execution_count": 113,
   "metadata": {},
   "outputs": [
    {
     "name": "stdout",
     "output_type": "stream",
     "text": [
      "=== HMM Annotations ===\n"
     ]
    },
    {
     "data": {
      "text/html": [
       "<span class=\"tex2jax_ignore\"><div class=\"entities\" style=\"line-height: 2.5; direction: ltr\">\n",
       "<mark class=\"entity\" style=\"background: #7FFFD4; padding: 0.45em 0.6em; margin: 0 0.25em; line-height: 1; border-radius: 0.35em;\">\n",
       "    angelim verm\n",
       "    <span style=\"font-size: 0.8em; font-weight: bold; line-height: 1; border-radius: 0.35em; vertical-align: middle; margin-left: 0.5rem\">ESPECIE</span>\n",
       "</mark>\n",
       " aproveitamento \n",
       "<mark class=\"entity\" style=\"background: #FFD700; padding: 0.45em 0.6em; margin: 0 0.25em; line-height: 1; border-radius: 0.35em;\">\n",
       "    ripas\n",
       "    <span style=\"font-size: 0.8em; font-weight: bold; line-height: 1; border-radius: 0.35em; vertical-align: middle; margin-left: 0.5rem\">CORTE</span>\n",
       "</mark>\n",
       "</div></span>"
      ],
      "text/plain": [
       "<IPython.core.display.HTML object>"
      ]
     },
     "metadata": {},
     "output_type": "display_data"
    },
    {
     "name": "stdout",
     "output_type": "stream",
     "text": [
      "=== Majority Voter Annotations ===\n"
     ]
    },
    {
     "data": {
      "text/html": [
       "<span class=\"tex2jax_ignore\"><div class=\"entities\" style=\"line-height: 2.5; direction: ltr\">\n",
       "<mark class=\"entity\" style=\"background: #7FFFD4; padding: 0.45em 0.6em; margin: 0 0.25em; line-height: 1; border-radius: 0.35em;\">\n",
       "    angelim verm\n",
       "    <span style=\"font-size: 0.8em; font-weight: bold; line-height: 1; border-radius: 0.35em; vertical-align: middle; margin-left: 0.5rem\">ESPECIE</span>\n",
       "</mark>\n",
       " aproveitamento \n",
       "<mark class=\"entity\" style=\"background: #FFD700; padding: 0.45em 0.6em; margin: 0 0.25em; line-height: 1; border-radius: 0.35em;\">\n",
       "    ripas\n",
       "    <span style=\"font-size: 0.8em; font-weight: bold; line-height: 1; border-radius: 0.35em; vertical-align: middle; margin-left: 0.5rem\">CORTE</span>\n",
       "</mark>\n",
       "</div></span>"
      ],
      "text/plain": [
       "<IPython.core.display.HTML object>"
      ]
     },
     "metadata": {},
     "output_type": "display_data"
    }
   ],
   "source": [
    "def render_skweak_entities(doc, annotator_name: str, colors: dict = None):\n",
    "    \"\"\"Render entities from skweak annotations with colored highlighting\"\"\"\n",
    "    \n",
    "    # Get entities from specified annotator\n",
    "    entities = doc.spans.get(annotator_name, [])\n",
    "    \n",
    "    # Default color scheme for your entities\n",
    "    default_colors = {\n",
    "        \"ESPECIE\": \"#7FFFD4\",  # Aquamarine\n",
    "        \"CORTE\": \"#FFD700\",    # Gold\n",
    "        \"DIMENSAO\": \"#FFB6C1\"  # Pink\n",
    "    }\n",
    "    \n",
    "    # Ensure colors is never None\n",
    "    colors = colors or default_colors\n",
    "    \n",
    "    # Prepare entities for visualization\n",
    "    displacy_data = {\n",
    "        \"text\": doc.text,\n",
    "        \"ents\": [\n",
    "            {\n",
    "                \"start\": ent.start_char,\n",
    "                \"end\": ent.end_char,\n",
    "                \"label\": ent.label_\n",
    "            } for ent in entities\n",
    "        ],\n",
    "        \"title\": None\n",
    "    }\n",
    "\n",
    "    # Render with specified colors (ensure empty dict if no colors)\n",
    "    displacy.render(\n",
    "        [displacy_data],\n",
    "        style=\"ent\",\n",
    "        manual=True,\n",
    "        jupyter=True,\n",
    "        options={\"colors\": colors or {}}  # Key fix here\n",
    "    )\n",
    "\n",
    "# Usage\n",
    "doc = spacy_docs_train[0]\n",
    "\n",
    "print(\"=== HMM Annotations ===\")\n",
    "render_skweak_entities(doc, \"hmm\")\n",
    "\n",
    "\n",
    "print(\"=== Majority Voter Annotations ===\")\n",
    "render_skweak_entities(doc, \"maj_voter\")"
   ]
  },
  {
   "cell_type": "markdown",
   "metadata": {},
   "source": [
    "<h4>\n",
    "Se\n",
    "</h4>"
   ]
  },
  {
   "cell_type": "code",
   "execution_count": 114,
   "metadata": {},
   "outputs": [
    {
     "name": "stdout",
     "output_type": "stream",
     "text": [
      "4\n",
      "4\n"
     ]
    }
   ],
   "source": [
    "docs_sem_entidades = [\n",
    "    doc for doc in spacy_docs_train[:50] \n",
    "    if len(doc.spans.get(\"hmm\", [])) == 0\n",
    "]\n",
    "\n",
    "df_sem_entidades_hmm = pd.DataFrame({\n",
    "    \"text\": [doc.text for doc in docs_sem_entidades],\n",
    "    \"num_entidades\": [len(doc.spans.get(\"hmm\", [])) for doc in docs_sem_entidades]\n",
    "})\n",
    "\n",
    "df_sem_entidades_maj_voter = pd.DataFrame({\n",
    "    \"text\": [doc.text for doc in docs_sem_entidades],\n",
    "    \"num_entidades\": [len(doc.spans.get(\"maj_voter\", [])) for doc in docs_sem_entidades]\n",
    "})\n",
    "\n",
    "print(len(df_sem_entidades_hmm))\n",
    "print(len(df_sem_entidades_maj_voter))"
   ]
  },
  {
   "cell_type": "code",
   "execution_count": 115,
   "metadata": {},
   "outputs": [
    {
     "data": {
      "application/vnd.microsoft.datawrangler.viewer.v0+json": {
       "columns": [
        {
         "name": "index",
         "rawType": "int64",
         "type": "integer"
        },
        {
         "name": "text",
         "rawType": "object",
         "type": "string"
        },
        {
         "name": "num_entidades",
         "rawType": "int64",
         "type": "integer"
        }
       ],
       "conversionMethod": "pd.DataFrame",
       "ref": "fa490a88-d68e-4595-a3c6-91e0ce980862",
       "rows": [
        [
         "0",
         "jogo cozinha em madeira",
         "0"
        ],
        [
         "1",
         "conjunto de utensilios para cozi",
         "0"
        ],
        [
         "2",
         "palitos p/ dentes aurea gde",
         "0"
        ],
        [
         "3",
         "pv-kit colher / espatula em made",
         "0"
        ]
       ],
       "shape": {
        "columns": 2,
        "rows": 4
       }
      },
      "text/html": [
       "<div>\n",
       "<style scoped>\n",
       "    .dataframe tbody tr th:only-of-type {\n",
       "        vertical-align: middle;\n",
       "    }\n",
       "\n",
       "    .dataframe tbody tr th {\n",
       "        vertical-align: top;\n",
       "    }\n",
       "\n",
       "    .dataframe thead th {\n",
       "        text-align: right;\n",
       "    }\n",
       "</style>\n",
       "<table border=\"1\" class=\"dataframe\">\n",
       "  <thead>\n",
       "    <tr style=\"text-align: right;\">\n",
       "      <th></th>\n",
       "      <th>text</th>\n",
       "      <th>num_entidades</th>\n",
       "    </tr>\n",
       "  </thead>\n",
       "  <tbody>\n",
       "    <tr>\n",
       "      <th>0</th>\n",
       "      <td>jogo cozinha em madeira</td>\n",
       "      <td>0</td>\n",
       "    </tr>\n",
       "    <tr>\n",
       "      <th>1</th>\n",
       "      <td>conjunto de utensilios para cozi</td>\n",
       "      <td>0</td>\n",
       "    </tr>\n",
       "    <tr>\n",
       "      <th>2</th>\n",
       "      <td>palitos p/ dentes aurea gde</td>\n",
       "      <td>0</td>\n",
       "    </tr>\n",
       "    <tr>\n",
       "      <th>3</th>\n",
       "      <td>pv-kit colher / espatula em made</td>\n",
       "      <td>0</td>\n",
       "    </tr>\n",
       "  </tbody>\n",
       "</table>\n",
       "</div>"
      ],
      "text/plain": [
       "                               text  num_entidades\n",
       "0           jogo cozinha em madeira              0\n",
       "1  conjunto de utensilios para cozi              0\n",
       "2       palitos p/ dentes aurea gde              0\n",
       "3  pv-kit colher / espatula em made              0"
      ]
     },
     "execution_count": 115,
     "metadata": {},
     "output_type": "execute_result"
    }
   ],
   "source": [
    "df_sem_entidades_hmm.head()"
   ]
  },
  {
   "cell_type": "code",
   "execution_count": 116,
   "metadata": {},
   "outputs": [
    {
     "data": {
      "application/vnd.microsoft.datawrangler.viewer.v0+json": {
       "columns": [
        {
         "name": "index",
         "rawType": "int64",
         "type": "integer"
        },
        {
         "name": "text",
         "rawType": "object",
         "type": "string"
        },
        {
         "name": "num_entidades",
         "rawType": "int64",
         "type": "integer"
        }
       ],
       "conversionMethod": "pd.DataFrame",
       "ref": "3e63ff59-d1b3-4652-b9bb-793f6eca866d",
       "rows": [
        [
         "0",
         "jogo cozinha em madeira",
         "0"
        ],
        [
         "1",
         "conjunto de utensilios para cozi",
         "0"
        ],
        [
         "2",
         "palitos p/ dentes aurea gde",
         "0"
        ],
        [
         "3",
         "pv-kit colher / espatula em made",
         "0"
        ]
       ],
       "shape": {
        "columns": 2,
        "rows": 4
       }
      },
      "text/html": [
       "<div>\n",
       "<style scoped>\n",
       "    .dataframe tbody tr th:only-of-type {\n",
       "        vertical-align: middle;\n",
       "    }\n",
       "\n",
       "    .dataframe tbody tr th {\n",
       "        vertical-align: top;\n",
       "    }\n",
       "\n",
       "    .dataframe thead th {\n",
       "        text-align: right;\n",
       "    }\n",
       "</style>\n",
       "<table border=\"1\" class=\"dataframe\">\n",
       "  <thead>\n",
       "    <tr style=\"text-align: right;\">\n",
       "      <th></th>\n",
       "      <th>text</th>\n",
       "      <th>num_entidades</th>\n",
       "    </tr>\n",
       "  </thead>\n",
       "  <tbody>\n",
       "    <tr>\n",
       "      <th>0</th>\n",
       "      <td>jogo cozinha em madeira</td>\n",
       "      <td>0</td>\n",
       "    </tr>\n",
       "    <tr>\n",
       "      <th>1</th>\n",
       "      <td>conjunto de utensilios para cozi</td>\n",
       "      <td>0</td>\n",
       "    </tr>\n",
       "    <tr>\n",
       "      <th>2</th>\n",
       "      <td>palitos p/ dentes aurea gde</td>\n",
       "      <td>0</td>\n",
       "    </tr>\n",
       "    <tr>\n",
       "      <th>3</th>\n",
       "      <td>pv-kit colher / espatula em made</td>\n",
       "      <td>0</td>\n",
       "    </tr>\n",
       "  </tbody>\n",
       "</table>\n",
       "</div>"
      ],
      "text/plain": [
       "                               text  num_entidades\n",
       "0           jogo cozinha em madeira              0\n",
       "1  conjunto de utensilios para cozi              0\n",
       "2       palitos p/ dentes aurea gde              0\n",
       "3  pv-kit colher / espatula em made              0"
      ]
     },
     "execution_count": 116,
     "metadata": {},
     "output_type": "execute_result"
    }
   ],
   "source": [
    "df_sem_entidades_maj_voter.head()"
   ]
  },
  {
   "cell_type": "markdown",
   "metadata": {},
   "source": [
    "<h4>\n",
    "Parece que ambos agregadores conseguiram explorar bem o conjunto de dados e identificar ao menos uma entidade quando o produto era realmente de madeira serrada.\n",
    "</h4>"
   ]
  },
  {
   "cell_type": "code",
   "execution_count": 117,
   "metadata": {},
   "outputs": [
    {
     "name": "stdout",
     "output_type": "stream",
     "text": [
      "Write to artefatos/spacy_docs_train_annotated.bin...done\n"
     ]
    }
   ],
   "source": [
    "from skweak.utils import docbin_writer\n",
    "docbin_writer(spacy_docs_train, \"artefatos/spacy_docs_train_annotated.bin\")"
   ]
  },
  {
   "cell_type": "markdown",
   "metadata": {},
   "source": [
    "## 4. Utilizar as Weak Labels para produzir um novo modelo."
   ]
  },
  {
   "cell_type": "markdown",
   "metadata": {},
   "source": [
    "<h4>\n",
    "Agora preciso utilizar as funções de rotulagem que implementei até agora para fazer o fine-tuning de um modelo Bert pré-treinado capaz de generalizar as regras 'hard' do Gazetteer e da heurística que criei, além das funções agregadoras.\n",
    "</h4>"
   ]
  },
  {
   "cell_type": "code",
   "execution_count": 118,
   "metadata": {},
   "outputs": [
    {
     "name": "stdout",
     "output_type": "stream",
     "text": [
      "Entidades: [('angelim verm', 'ESPECIE'), ('ripas', 'CORTE')]\n"
     ]
    }
   ],
   "source": [
    "from skweak.utils import docbin_reader\n",
    "\n",
    "spacy_docs_train = list(docbin_reader(\"artefatos/spacy_docs_train_annotated.bin\", \n",
    "                                     spacy_model_name=\"pt_core_news_lg\"))\n",
    "\n",
    "doc = spacy_docs_train[0]\n",
    "print(\"Entidades:\", [(ent.text, ent.label_) for ent in doc.spans[\"hmm\"]])"
   ]
  },
  {
   "cell_type": "code",
   "execution_count": 119,
   "metadata": {},
   "outputs": [],
   "source": [
    "def convert_to_iob(docs, annotator_name=\"hmm\"):\n",
    "    \"\"\"Convert skweak annotations to IOB format\"\"\"\n",
    "    iob_data = []\n",
    "    for doc in docs:\n",
    "        tokens = [token.text for token in doc]\n",
    "        labels = [\"O\"] * len(tokens)\n",
    "        \n",
    "        # Process each entity span\n",
    "        for span in doc.spans[annotator_name]:\n",
    "            label = span.label_\n",
    "            start = span.start\n",
    "            end = span.end\n",
    "            \n",
    "            labels[start] = f\"B-{label}\"\n",
    "            for i in range(start+1, end):\n",
    "                labels[i] = f\"I-{label}\"\n",
    "                \n",
    "        iob_data.append({\"tokens\": tokens, \"labels\": labels, \"text\": doc.text})\n",
    "    \n",
    "    return iob_data\n",
    "\n",
    "train_data = convert_to_iob(spacy_docs_train, annotator_name=\"hmm\")"
   ]
  },
  {
   "cell_type": "code",
   "execution_count": 120,
   "metadata": {},
   "outputs": [],
   "source": [
    "import ast\n",
    "def convert_argilla_to_iob(argilla_data):\n",
    "    \"\"\"Convert Argilla format to IOB format\"\"\"\n",
    "    iob_data = []\n",
    "    \n",
    "    for example in argilla_data:\n",
    "        text = example[\"text\"]\n",
    "        entities = example.get(\"span_label.responses\", [])\n",
    "        \n",
    "        if isinstance(entities, str):\n",
    "            try:\n",
    "                clean_str = entities.replace(\"array(\", \"\").replace(\", dtype=object)\", \"\")\n",
    "                entities = ast.literal_eval(clean_str)\n",
    "            except:\n",
    "                entities = []\n",
    "\n",
    "        doc = nlp(text)\n",
    "        tokens = [token.text for token in doc]\n",
    "        labels = [\"O\"] * len(tokens)\n",
    "\n",
    "        for entity in entities:\n",
    "            if not isinstance(entity, dict):\n",
    "                continue\n",
    "\n",
    "            start = entity[\"start\"]\n",
    "            end = entity[\"end\"]\n",
    "            label = entity[\"label\"]\n",
    "\n",
    "            start_token = None\n",
    "            for token in doc:\n",
    "                if token.idx >= start:\n",
    "                    break\n",
    "                start_token = token.i\n",
    "            if start_token is None:\n",
    "                start_token = 0\n",
    "\n",
    "            end_token = None\n",
    "            for token in doc:\n",
    "                if token.idx + len(token) > end:\n",
    "                    break\n",
    "                end_token = token.i\n",
    "            if end_token is None:\n",
    "                end_token = len(doc) - 1\n",
    "\n",
    "            if start_token <= end_token:\n",
    "                labels[start_token] = f\"B-{label}\"\n",
    "                for i in range(start_token + 1, end_token + 1):\n",
    "                    labels[i] = f\"I-{label}\"\n",
    "\n",
    "        iob_data.append({\n",
    "            \"tokens\": tokens,\n",
    "            \"labels\": labels,\n",
    "            \"text\": text\n",
    "        })\n",
    "    \n",
    "    return iob_data\n",
    "\n",
    "val_data = convert_argilla_to_iob(df_val.to_dict(\"records\"))\n",
    "test_data = convert_argilla_to_iob(df_test.to_dict(\"records\"))"
   ]
  },
  {
   "cell_type": "code",
   "execution_count": 122,
   "metadata": {},
   "outputs": [
    {
     "name": "stderr",
     "output_type": "stream",
     "text": [
      "c:\\Users\\01706565437\\Documents\\Madeira-Fraca\\.venv\\lib\\site-packages\\tqdm\\auto.py:21: TqdmWarning: IProgress not found. Please update jupyter and ipywidgets. See https://ipywidgets.readthedocs.io/en/stable/user_install.html\n",
      "  from .autonotebook import tqdm as notebook_tqdm\n",
      "Casting the dataset: 100%|██████████| 100/100 [00:00<00:00, 6217.47 examples/s]\n",
      "Casting the dataset: 100%|██████████| 282/282 [00:00<00:00, 27932.31 examples/s]\n",
      "Casting the dataset: 100%|██████████| 282/282 [00:00<00:00, 27995.12 examples/s]\n"
     ]
    }
   ],
   "source": [
    "from datasets import Dataset, Features, Sequence, ClassLabel, Value\n",
    "\n",
    "labels = [\"O\", \"B-ESPECIE\", \"I-ESPECIE\", \"B-CORTE\", \"I-CORTE\", \"B-DIMENSAO\", \"I-DIMENSAO\"]\n",
    "\n",
    "dataset_train = Dataset.from_list(train_data).cast(Features({\n",
    "    \"tokens\": Sequence(Value(\"string\")),\n",
    "    \"labels\": Sequence(ClassLabel(names=labels)),\n",
    "    \"text\": Value(\"string\")\n",
    "}))\n",
    "dataset_val = Dataset.from_list(val_data).cast(Features({\n",
    "    \"tokens\": Sequence(Value(\"string\")),\n",
    "    \"labels\": Sequence(ClassLabel(names=labels)),\n",
    "    \"text\": Value(\"string\")\n",
    "}))\n",
    "dataset_test = Dataset.from_list(test_data).cast(Features({\n",
    "    \"tokens\": Sequence(Value(\"string\")),\n",
    "    \"labels\": Sequence(ClassLabel(names=labels)),\n",
    "    \"text\": Value(\"string\")\n",
    "}))\n",
    "\n"
   ]
  },
  {
   "cell_type": "code",
   "execution_count": 124,
   "metadata": {},
   "outputs": [
    {
     "name": "stderr",
     "output_type": "stream",
     "text": [
      "c:\\Users\\01706565437\\Documents\\Madeira-Fraca\\.venv\\lib\\site-packages\\huggingface_hub\\file_download.py:143: UserWarning: `huggingface_hub` cache-system uses symlinks by default to efficiently store duplicated files but your machine does not support them in C:\\Users\\01706565437\\.cache\\huggingface\\hub\\models--neuralmind--bert-base-portuguese-cased. Caching files will still work but in a degraded version that might require more space on your disk. This warning can be disabled by setting the `HF_HUB_DISABLE_SYMLINKS_WARNING` environment variable. For more details, see https://huggingface.co/docs/huggingface_hub/how-to-cache#limitations.\n",
      "To support symlinks on Windows, you either need to activate Developer Mode or to run Python as an administrator. In order to activate developer mode, see this article: https://docs.microsoft.com/en-us/windows/apps/get-started/enable-your-device-for-development\n",
      "  warnings.warn(message)\n",
      "Map: 100%|██████████| 100/100 [00:00<00:00, 4701.19 examples/s]\n",
      "Map: 100%|██████████| 282/282 [00:00<00:00, 9872.33 examples/s]\n",
      "Map: 100%|██████████| 282/282 [00:00<00:00, 5076.08 examples/s]\n"
     ]
    }
   ],
   "source": [
    "from transformers import AutoTokenizer, DataCollatorForTokenClassification\n",
    "\n",
    "tokenizer = AutoTokenizer.from_pretrained(\"neuralmind/bert-base-portuguese-cased\")\n",
    "\n",
    "def tokenize_and_align_labels(examples):\n",
    "    tokenized_inputs = tokenizer(\n",
    "        examples[\"tokens\"], \n",
    "        truncation=True, \n",
    "        is_split_into_words=True,\n",
    "        max_length=512\n",
    "    )\n",
    "\n",
    "    labels = []\n",
    "    for i, label in enumerate(examples[\"labels\"]):\n",
    "        word_ids = tokenized_inputs.word_ids(batch_index=i)\n",
    "        previous_word_idx = None\n",
    "        label_ids = []\n",
    "\n",
    "        for word_idx in word_ids:\n",
    "            if word_idx is None:\n",
    "                label_ids.append(-100)\n",
    "            elif word_idx != previous_word_idx:\n",
    "                label_ids.append(label[word_idx])\n",
    "            else:\n",
    "                label_ids.append(-100)\n",
    "            previous_word_idx = word_idx\n",
    "\n",
    "        labels.append(label_ids)\n",
    "\n",
    "    tokenized_inputs[\"labels\"] = labels\n",
    "    return tokenized_inputs\n",
    "\n",
    "tokenized_dataset_train = dataset_train.map(tokenize_and_align_labels, batched=True)\n",
    "tokenized_dataset_val = dataset_val.map(tokenize_and_align_labels, batched=True)\n",
    "tokenized_dataset_test = dataset_test.map(tokenize_and_align_labels, batched=True)\n",
    "\n",
    "data_collator = DataCollatorForTokenClassification(tokenizer, padding=True, max_length=512, return_tensors=\"pt\")\n"
   ]
  },
  {
   "cell_type": "code",
   "execution_count": 125,
   "metadata": {},
   "outputs": [
    {
     "name": "stderr",
     "output_type": "stream",
     "text": [
      "Some weights of BertForTokenClassification were not initialized from the model checkpoint at neuralmind/bert-base-portuguese-cased and are newly initialized: ['classifier.bias', 'classifier.weight']\n",
      "You should probably TRAIN this model on a down-stream task to be able to use it for predictions and inference.\n",
      "c:\\Users\\01706565437\\Documents\\Madeira-Fraca\\.venv\\lib\\site-packages\\torch\\utils\\data\\dataloader.py:665: UserWarning: 'pin_memory' argument is set as true but no accelerator is found, then device pinned memory won't be used.\n",
      "  warnings.warn(warn_msg)\n",
      "c:\\Users\\01706565437\\Documents\\Madeira-Fraca\\.venv\\lib\\site-packages\\transformers\\tokenization_utils_base.py:2718: UserWarning: `max_length` is ignored when `padding`=`True` and there is no truncation strategy. To pad to max length, use `padding='max_length'`.\n",
      "  warnings.warn(\n"
     ]
    },
    {
     "ename": "",
     "evalue": "",
     "output_type": "error",
     "traceback": [
      "\u001b[1;31mCannot execute code, session has been disposed. Please try restarting the Kernel."
     ]
    },
    {
     "ename": "",
     "evalue": "",
     "output_type": "error",
     "traceback": [
      "\u001b[1;31mCannot execute code, session has been disposed. Please try restarting the Kernel. \n",
      "\u001b[1;31mView Jupyter <a href='command:jupyter.viewOutput'>log</a> for further details."
     ]
    }
   ],
   "source": [
    "from transformers import AutoModelForTokenClassification, TrainingArguments, Trainer\n",
    "\n",
    "model = AutoModelForTokenClassification.from_pretrained(\n",
    "    \"neuralmind/bert-base-portuguese-cased\",\n",
    "    num_labels=len(labels),\n",
    "    id2label={i: label for i, label in enumerate(labels)},\n",
    "    label2id={label: i for i, label in enumerate(labels)}\n",
    ")\n",
    "\n",
    "training_args = TrainingArguments(\n",
    "    output_dir=\"./artefatos/bert-base-ner-true-labels\",  # Directory to save model checkpoints and logs\n",
    "    num_train_epochs=5,  # Number of training epochs\n",
    "    per_device_train_batch_size=128,  # Batch size for training\n",
    "    per_device_eval_batch_size=64,  # Batch size for evaluation\n",
    "    gradient_accumulation_steps=1,  # Accumulate gradients over multiple steps\n",
    "    weight_decay=0.01,  # Weight decay for regularization\n",
    "    seed=271828,  # Random seed for reproducibility\n",
    "    bf16=True,  # Use bfloat16 precision for training (if supported by hardware)\n",
    "    fp16=False,  # Use mixed precision training with FP16 (if supported by hardware)\n",
    "    save_total_limit=1,  # Limit the total number of saved checkpoints\n",
    "    logging_steps=1,  # Log training metrics every step\n",
    "    eval_steps=1,  # Evaluate the model every step\n",
    "    save_steps=1,  # Save the model every step\n",
    "    metric_for_best_model=\"eval_loss\",  # Metric to determine the best model\n",
    "    greater_is_better=False,  # Higher metric value is better\n",
    "    logging_strategy=\"steps\",  # Log metrics at each step\n",
    "    eval_strategy=\"epoch\",  # Evaluate the model at the end of each epoch\n",
    "    save_strategy=\"epoch\",  # Save the model at the end of each epoch\n",
    "    load_best_model_at_end=True,  # Load the best model at the end of training\n",
    "    do_train=True,  # Perform training\n",
    "    do_eval=True,  # Perform evaluation\n",
    "    push_to_hub=False,  # Do not push the model to the Hugging Face Hub\n",
    "    learning_rate=1e-5,  # Learning rate for the optimizer\n",
    "    overwrite_output_dir=True,  # Overwrite the output directory if it exists\n",
    ")\n",
    "\n",
    "trainer = Trainer(\n",
    "    model=model,\n",
    "    args=training_args,\n",
    "    train_dataset=tokenized_dataset_train,\n",
    "    eval_dataset=tokenized_dataset_val,\n",
    "    tokenizer=tokenizer,\n",
    "    data_collator=data_collator\n",
    ")\n",
    "\n",
    "trainer.train()"
   ]
  },
  {
   "cell_type": "markdown",
   "metadata": {},
   "source": [
    "<h4>\n",
    "Parece que o modelo não foi capaz de generalizar. Mesmo após fazer alguns testes modificando os parâmteros de treino, como o learning rate, per_device_train_batch_size, weight_decay, eu não fui capaz de encontrar uma combinação que diminuísse a Validation Loss.<br>\n",
    "Mesmo assim vamos analizar o comportamento desse modelo com alguns exemplos e no nosso conjunto de teste.\n",
    "</h4>"
   ]
  },
  {
   "cell_type": "code",
   "execution_count": null,
   "metadata": {},
   "outputs": [],
   "source": [
    "from transformers import pipeline\n",
    "\n",
    "ner_pipeline = pipeline(\n",
    "    \"ner\", \n",
    "    model=model,\n",
    "    tokenizer=tokenizer,\n",
    "    aggregation_strategy=\"simple\"\n",
    ")\n",
    "\n",
    "text = \"angelim verm aproveitamento ripas\" ## Exemplo do conjunto de treino, errou em ri ## pas\n",
    "results = ner_pipeline(text)\n",
    "\n",
    "print(\"Entities detected:\")\n",
    "for entity in results:\n",
    "    print(f\"{entity['word']} -> {entity['entity_group']}\")"
   ]
  },
  {
   "cell_type": "code",
   "execution_count": null,
   "metadata": {},
   "outputs": [],
   "source": [
    "textos_teste = tokenized_dataset_test['text'][:50]"
   ]
  },
  {
   "cell_type": "code",
   "execution_count": null,
   "metadata": {},
   "outputs": [],
   "source": [
    "results_list = ner_pipeline(textos_teste)"
   ]
  },
  {
   "cell_type": "code",
   "execution_count": null,
   "metadata": {},
   "outputs": [],
   "source": [
    "print(\"Entities detected:\")\n",
    "for entity in results_list[0]:\n",
    "    print(f\"{entity['word']} -> {entity['entity_group']}\")"
   ]
  },
  {
   "cell_type": "code",
   "execution_count": null,
   "metadata": {},
   "outputs": [],
   "source": [
    "print(\"Entities detected:\")\n",
    "for entity in results_list[1]:\n",
    "    print(f\"{entity['word']} -> {entity['entity_group']}\")"
   ]
  },
  {
   "cell_type": "markdown",
   "metadata": {},
   "source": [
    "## Objetivo final"
   ]
  },
  {
   "cell_type": "markdown",
   "metadata": {},
   "source": [
    "Analytics & Market Intelligence\n",
    "\n",
    "Use case: Aggregate and analyze trends across product descriptions.\n",
    "\n",
    "Why it matters:\n",
    "\n",
    "    What species are trending?\n",
    "\n",
    "    Is there increased demand for rift-sawn oak in certain dimensions?\n",
    "\n",
    "    Your model enables text mining on raw product text to derive insights."
   ]
  },
  {
   "cell_type": "markdown",
   "metadata": {},
   "source": [
    "Structured Product Catalogs for E-commerce Platforms\n",
    "\n",
    "Use case: Automatically structuring unstructured product descriptions into standardized fields.\n",
    "\n",
    "Why it matters:\n",
    "\n",
    "    Timber suppliers often have messy, inconsistent listings (e.g., “Oak rift sawn board 2x6” vs. “2x6 white oak, rift cut”).\n",
    "\n",
    "    Your NER model can power a data normalization pipeline that extracts:\n",
    "\n",
    "        Species: white oak, Douglas fir\n",
    "\n",
    "        Cut type: plain sawn, quarter sawn, rift sawn\n",
    "\n",
    "        Dimensions: 2x6, 25mm x 200mm\n",
    "\n",
    "Outcome: Cleaner databases, improved search/filter/sorting, better inventory management."
   ]
  }
 ],
 "metadata": {
  "kernelspec": {
   "display_name": ".venv",
   "language": "python",
   "name": "python3"
  },
  "language_info": {
   "codemirror_mode": {
    "name": "ipython",
    "version": 3
   },
   "file_extension": ".py",
   "mimetype": "text/x-python",
   "name": "python",
   "nbconvert_exporter": "python",
   "pygments_lexer": "ipython3",
   "version": "3.10.11"
  }
 },
 "nbformat": 4,
 "nbformat_minor": 2
}
